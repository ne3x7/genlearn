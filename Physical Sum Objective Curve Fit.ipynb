{
 "cells": [
  {
   "cell_type": "code",
   "execution_count": 1,
   "metadata": {},
   "outputs": [],
   "source": [
    "import numpy as np\n",
    "import pandas as pd\n",
    "\n",
    "from scipy.optimize import minimize\n",
    "\n",
    "import sympy\n",
    "\n",
    "from scipy.optimize import minimize\n",
    "import pyswarms as ps\n",
    "\n",
    "import IPython.display as dp\n",
    "import matplotlib.pyplot as plt\n",
    "import seaborn as sns\n",
    "\n",
    "dp.set_matplotlib_formats('retina')\n",
    "sns.set_style('whitegrid')\n",
    "sns.despine()\n",
    "\n",
    "%matplotlib notebook"
   ]
  },
  {
   "cell_type": "markdown",
   "metadata": {},
   "source": [
    "## Solver"
   ]
  },
  {
   "cell_type": "markdown",
   "metadata": {},
   "source": [
    "This code initializes generator state variables and network terminal variables"
   ]
  },
  {
   "cell_type": "code",
   "execution_count": 2,
   "metadata": {},
   "outputs": [],
   "source": [
    "def get_initial_values(P0, Q0, V0, angle0, theta0, Sn=2220, Vn=400, fn=60, Sb=100, Vb=400):\n",
    "    \"\"\"\n",
    "    Initializes generator state vector `x` and network terminal variables vector `V`\n",
    "    in machine base from given power flow values in system base and angle in radians.\n",
    "    \"\"\"\n",
    "    \n",
    "    # unpack parameters guess\n",
    "    \n",
    "    ws, ra, x1d, xd, xq, H, KD, T1d0, Kw, Tw, Tpss1, Tpss2, Tr, Tavr1, Tavr2, Te, K0 = theta0\n",
    "    \n",
    "    # define transforms\n",
    "    \n",
    "    # vf_MB = vf * Vb / Vn\n",
    "    wb = 2 * np.pi * fn\n",
    "    S_SBtoMB = Sb / Sn\n",
    "    V_MBtoSB = Vn / Vb\n",
    "    I_MBtoSB = Sn * Vb / (Sb * Vn)\n",
    "    Z_MBtoSB = Sb * Vn ** 2 / (Sn * Vb ** 2)\n",
    "    \n",
    "    # initialize stator quantitites\n",
    "    \n",
    "    p0 = P0 / Sb\n",
    "    q0 = Q0 / Sb\n",
    "    Vt0 = V0 * np.exp(1j * angle0)\n",
    "    S0 = p0 - 1j * q0\n",
    "    I0 = S0 / Vt0.conjugate()\n",
    "    vr0 = Vt0.real\n",
    "    vi0 = Vt0.imag\n",
    "    ir0 = -I0.real\n",
    "    ii0 = -I0.imag\n",
    "    \n",
    "    # initialize DQ-quantities\n",
    "    \n",
    "    w0 = 1\n",
    "    delta0 = np.angle(Vt0 + (ra + 1j * xq) * Z_MBtoSB * I0)\n",
    "    \n",
    "    Vdq0 = Vt0 * (1 / V_MBtoSB) * np.exp(1j * (-delta0 + np.pi/2))\n",
    "    Idq0 = I0 * (1 / I_MBtoSB) * np.exp(1j * (-delta0 + np.pi/2))\n",
    "    \n",
    "    vd0 = Vdq0.real\n",
    "    vq0 = Vdq0.imag\n",
    "    id0 = Idq0.real\n",
    "    iq0 = Idq0.imag\n",
    "    \n",
    "    # initialize order 3\n",
    "    \n",
    "    e1q0 = vq0 + ra * iq0 + x1d * id0\n",
    "    \n",
    "    # initialize AVR\n",
    "    \n",
    "    v = np.abs(Vt0)\n",
    "    vref = v\n",
    "    vs0 = 0\n",
    "    vm0 = v\n",
    "    vf0 = (e1q0 + (xd - x1d) * id0) * V_MBtoSB\n",
    "    vr0 = K0 * (1 - Tavr1 / Tavr2) * (vref + vs0 - vm0)\n",
    "    \n",
    "    # initialize PSS\n",
    "    \n",
    "    v20 = 0\n",
    "    \n",
    "    # constants\n",
    "    \n",
    "    pm = (vq0 + ra * iq0) * iq0 + (vd0 + ra * id0) * id0\n",
    "    vsmin, vsmax = -0.2, 0.2\n",
    "    vfmin, vfmax = -6.4, 7\n",
    "    \n",
    "    # pack values\n",
    "    \n",
    "    x = np.array([delta0, w0, v20, vs0, vm0, vr0, vf0, e1q0])\n",
    "    V = np.array([vd0, vq0, id0, iq0])\n",
    "    c = np.array([pm, vsmin, vsmax, vfmin, vfmax, vref, vf0, vs0, wb])\n",
    "    \n",
    "    return x, V, c"
   ]
  },
  {
   "cell_type": "markdown",
   "metadata": {},
   "source": [
    "This code solves non-liear constraint optimization"
   ]
  },
  {
   "cell_type": "code",
   "execution_count": 3,
   "metadata": {},
   "outputs": [],
   "source": [
    "def constraint_objective(x, xx, c, S, theta):\n",
    "    delta, w, v2, vs, vm, vr, vf, e1q = xx\n",
    "    vd, vq, id, iq = x\n",
    "    pm, vsmin, vsmax, vfmin, vfmax, vref, vf0, s0, wb = c\n",
    "    p, q = S\n",
    "    ws, ra, x1d, xd, xq, H, KD, T1d0, Kw, Tw, Tpss1, Tpss2, Tr, Tavr1, Tavr2, Te, K0 = theta\n",
    "    vt = np.sqrt(vd ** 2 + vq ** 2)\n",
    "    \n",
    "    res = np.array([\n",
    "        (x1d * xq + ra ** 2) * id - (xq * e1q - xq * vq - ra * vd),\n",
    "        (x1d * xq + ra ** 2) * iq - (ra * e1q - ra * vq + x1d * vd),\n",
    "        vd * id + vq * iq - p / 22.2,\n",
    "        vq * id - vd * iq - q / 22.2\n",
    "    ])\n",
    "    \n",
    "    return np.linalg.norm(res, 2) ** 2\n",
    "\n",
    "def constraint_objective2(theta, x, xx, c, S):\n",
    "    return constraint_objective(x, xx, c, S, theta)\n",
    "\n",
    "def constraint_jacobian(x, xx, c, S, theta):\n",
    "    delta, w, v2, vs, vm, vr, vf, e1q = xx\n",
    "    vd, vq, id, iq = x\n",
    "    pm, vsmin, vsmax, vfmin, vfmax, vref, vf0, s0, wb = c\n",
    "    p, q = S\n",
    "    ws, ra, x1d, xd, xq, H, KD, T1d0, Kw, Tw, Tpss1, Tpss2, Tr, Tavr1, Tavr2, Te, K0 = theta\n",
    "    vt = np.sqrt(vd ** 2 + vq ** 2)\n",
    "    \n",
    "    dif = 2 * np.array([\n",
    "        (x1d * xq + ra ** 2) * id - (xq * e1q - xq * vq - ra * vd),\n",
    "        (x1d * xq + ra ** 2) * iq - (ra * e1q - ra * vq + x1d * vd),\n",
    "        vd * id + vq * iq - p / 22.2,\n",
    "        vq * id - vd * iq - q / 22.2\n",
    "    ])\n",
    "    \n",
    "    m = np.array([\n",
    "        [ra, -x1d, id, -iq],\n",
    "        [xq, ra, iq, id],\n",
    "        [(x1d * xq + ra ** 2), 0, vd, vq],\n",
    "        [0, (x1d * xq + ra ** 2), vq, -vd]\n",
    "    ])\n",
    "    \n",
    "    return m @ dif\n",
    "\n",
    "def constraint_jacobian2(theta, x, xx, c, S):\n",
    "    delta, w, v2, vs, vm, vr, vf, e1q = xx\n",
    "    vd, vq, id, iq = x\n",
    "    pm, vsmin, vsmax, vfmin, vfmax, vref, vf0, s0, wb = c\n",
    "    p, q = S\n",
    "    ws, ra, x1d, xd, xq, H, KD, T1d0, Kw, Tw, Tpss1, Tpss2, Tr, Tavr1, Tavr2, Te, K0 = theta\n",
    "    vt = np.sqrt(vd ** 2 + vq ** 2)\n",
    "    \n",
    "    dif = 2 * np.array([\n",
    "        (x1d * xq + ra ** 2) * id - (xq * e1q - xq * vq - ra * vd),\n",
    "        (x1d * xq + ra ** 2) * iq - (ra * e1q - ra * vq + x1d * vd),\n",
    "        vd * id + vq * iq - p / 22.2,\n",
    "        vq * id - vd * iq - q / 22.2\n",
    "    ])\n",
    "    \n",
    "    m = np.array([\n",
    "        [0, 0, 0, 0],\n",
    "        [2 * ra * id + vd, 2 * ra * iq - e1q + vq, 0, 0],\n",
    "        [xq * id, xq * iq - vd, 0, 0],\n",
    "        [0, 0, 0, 0],\n",
    "        [x1d * id - e1q + vq, x1d * iq, 0, 0],\n",
    "        [0, 0, 0, 0],\n",
    "        [0, 0, 0, 0],\n",
    "        [0, 0, 0, 0],\n",
    "        [0, 0, 0, 0],\n",
    "        [0, 0, 0, 0],\n",
    "        [0, 0, 0, 0],\n",
    "        [0, 0, 0, 0],\n",
    "        [0, 0, 0, 0],\n",
    "        [0, 0, 0, 0],\n",
    "        [0, 0, 0, 0],\n",
    "        [0, 0, 0, 0],\n",
    "        [0, 0, 0, 0]\n",
    "    ])\n",
    "    \n",
    "    return m @ dif\n",
    "\n",
    "def constraint_solve(x, V, c, S, theta, threshold=1e-16):\n",
    "    if constraint_objective(V, x, c, S, theta) < threshold:\n",
    "        return V\n",
    "    else:\n",
    "        return minimize(constraint_objective,\n",
    "                        x0=V,\n",
    "                        args=(x, c, S, theta),\n",
    "                        method='L-BFGS-B',\n",
    "                        jac=constraint_jacobian, bounds=[(0., None)] * 4).x"
   ]
  },
  {
   "cell_type": "markdown",
   "metadata": {},
   "source": [
    "This code defines transition from one time step to another"
   ]
  },
  {
   "cell_type": "code",
   "execution_count": 4,
   "metadata": {},
   "outputs": [],
   "source": [
    "def transition(x, V, c, S, theta, tau=0.1, tol=1e-16):\n",
    "    delta, w, v2, vs, vm, vr, vf, e1q = x\n",
    "    pm, vsmin, vsmax, vfmin, vfmax, vref, vf0, s0, wb = c\n",
    "    p, q = S\n",
    "    ws, ra, x1d, xd, xq, H, KD, T1d0, Kw, Tw, Tpss1, Tpss2, Tr, Tavr1, Tavr2, Te, K0 = theta\n",
    "    \n",
    "    Vnew = constraint_solve(x, V, c, S, theta, threshold=tol)\n",
    "    vd, vq, id, iq = Vnew\n",
    "    vt = np.sqrt(vd ** 2 + vq ** 2)\n",
    "    \n",
    "    xnew = x + tau * np.array([\n",
    "        w - ws,\n",
    "        ws * (pm - (vq + ra * iq) * iq - (vd + ra * id) * id - KD * (w / ws - 1)) / (2 * H),\n",
    "        Kw * ws * (pm - (vq + ra * iq) * iq - (vd + ra * id) * id - KD * (w / ws - 1)) / (2 * H) - v2 / Tw,\n",
    "        (Tpss1 * (Kw * ws * (pm - (vq + ra * iq) * iq - (vd + ra * id) * id \\\n",
    "                             - KD * (w / ws - 1)) / (2 * H) - v2 / Tw) + v2 - vs) / Tpss2,\n",
    "        (vt - vm) / Tr,\n",
    "        (K0 * (1 - Tavr1 / Tavr2) * (vref + vs - vm) - vr) / Tavr2,\n",
    "        ((vr + K0 * Tavr1 * (vref + vs - vm) / Tavr2 + vf0) * (1 + s0 * (vt / vm - 1)) - vf) / Te,\n",
    "        (- e1q - (xd - x1d) * id + vf) / T1d0\n",
    "    ])\n",
    "    \n",
    "    xnew[3] = max(vsmin, min(vsmax, xnew[3]))\n",
    "    xnew[6] = max(vfmin, min(vfmax, xnew[6]))\n",
    "    \n",
    "    return xnew, Vnew"
   ]
  },
  {
   "cell_type": "code",
   "execution_count": 42,
   "metadata": {},
   "outputs": [],
   "source": [
    "def f(x, V, c, S, theta):\n",
    "    delta, w, v2, vs, vm, vr, vf, e1q = x\n",
    "    pm, vsmin, vsmax, vfmin, vfmax, vref, vf0, s0, wb = c\n",
    "    p, q = S\n",
    "    ws, ra, x1d, xd, xq, H, KD, T1d0, Kw, Tw, Tpss1, Tpss2, Tr, Tavr1, Tavr2, Te, K0 = theta\n",
    "    vd, vq, id, iq = V\n",
    "    vt = np.sqrt(vd ** 2 + vq ** 2)\n",
    "    \n",
    "    res = np.array([\n",
    "        w - ws,\n",
    "        ws * (pm - (vq + ra * iq) * iq - (vd + ra * id) * id - KD * (w / ws - 1)) / (2 * H),\n",
    "        Kw * ws * (pm - (vq + ra * iq) * iq - (vd + ra * id) * id - KD * (w / ws - 1)) / (2 * H) - v2 / Tw,\n",
    "        (Tpss1 * (Kw * ws * (pm - (vq + ra * iq) * iq - (vd + ra * id) * id \\\n",
    "                             - KD * (w / ws - 1)) / (2 * H) - v2 / Tw) + v2 - vs) / Tpss2,\n",
    "        (vt - vm) / Tr,\n",
    "        (K0 * (1 - Tavr1 / Tavr2) * (vref + vs - vm) - vr) / Tavr2,\n",
    "        ((vr + K0 * Tavr1 * (vref + vs - vm) / Tavr2 + vf0) * (1 + s0 * (vt / vm - 1)) - vf) / Te,\n",
    "        (- e1q - (xd - x1d) * id + vf) / T1d0\n",
    "    ])\n",
    "    return res"
   ]
  },
  {
   "cell_type": "code",
   "execution_count": 48,
   "metadata": {},
   "outputs": [],
   "source": [
    "def transition_rk(x, V, c, S, theta, tau=0.1, tol=1e-16):\n",
    "    pm, vsmin, vsmax, vfmin, vfmax, vref, vf0, s0, wb = c\n",
    "    Vnew = constraint_solve(x, V, c, S, theta, threshold=tol)\n",
    "    \n",
    "    k1 = tau * f(x, Vnew, c, S, theta)\n",
    "    k2 = tau * f(x + k1 / 2, Vnew, c, S, theta)\n",
    "    k3 = tau * f(x + k2 / 2, Vnew, c, S, theta)\n",
    "    k4 = tau * f(x + k3, Vnew, c, S, theta)\n",
    "    \n",
    "    xnew = x + (k1 + 2 * (k2 + k3) + k4) / 6\n",
    "    \n",
    "    xnew[3] = max(vsmin, min(vsmax, xnew[3]))\n",
    "    xnew[6] = max(vfmin, min(vfmax, xnew[6]))\n",
    "    \n",
    "    return xnew, Vnew"
   ]
  },
  {
   "cell_type": "markdown",
   "metadata": {},
   "source": [
    "This code defines interface to solver in one function call"
   ]
  },
  {
   "cell_type": "code",
   "execution_count": 44,
   "metadata": {},
   "outputs": [],
   "source": [
    "def solve(df, tau=0.1, tol=1e-16):\n",
    "    theta0 = np.array([1., 0.003, 0.3, 1.81, 1.76,\n",
    "                       3.5, 0., 8., 10., 10., 0.05,\n",
    "                       0.02, 0.015, 1., 1., 0.0001, 200])\n",
    "    x0, V0, c = get_initial_values(P0=1997.9999999936396,\n",
    "                                   Q0=967.9249699065775,\n",
    "                                   V0=1.0,\n",
    "                                   angle0=0.494677176989154,\n",
    "                                   theta0=theta0)\n",
    "    xs = [x0]\n",
    "    Vs = [V0]\n",
    "    for t in range(1, len(df)):\n",
    "        xnew, Vnew = transition(xs[-1], Vs[-1], c, df[['p', 'q']].values[t], theta0, tau=tau, tol=tol)\n",
    "        xs.append(xnew)\n",
    "        Vs.append(Vnew)\n",
    "        \n",
    "    return xs, Vs\n",
    "\n",
    "def solve_for_theta(injection, theta, tau=0.1, tol=1e-16):\n",
    "    x0, V0, c = get_initial_values(P0=1997.9999999936396,\n",
    "                                   Q0=967.9249699065775,\n",
    "                                   V0=1.0,\n",
    "                                   angle0=0.494677176989154,\n",
    "                                   theta0=theta)\n",
    "    xs = [x0]\n",
    "    Vs = [V0]\n",
    "    for t in range(1, injection.shape[0]):\n",
    "        xnew, Vnew = transition(xs[-1], Vs[-1], c, injection[t], theta, tau=tau, tol=tol)\n",
    "        xs.append(xnew)\n",
    "        Vs.append(Vnew)\n",
    "        \n",
    "    return xs, Vs, c\n",
    "\n",
    "def solve_rk(injection, theta, tau=0.1, tol=1e-16):\n",
    "    x0, V0, c = get_initial_values(P0=1997.9999999936396,\n",
    "                                   Q0=967.9249699065775,\n",
    "                                   V0=1.0,\n",
    "                                   angle0=0.494677176989154,\n",
    "                                   theta0=theta)\n",
    "    xs = [x0]\n",
    "    Vs = [V0]\n",
    "    for t in range(1, injection.shape[0]):\n",
    "        xnew, Vnew = transition_rk(xs[-1], Vs[-1], c, injection[t], theta, tau=tau, tol=tol)\n",
    "        xs.append(xnew)\n",
    "        Vs.append(Vnew)\n",
    "        \n",
    "    return xs, Vs, c"
   ]
  },
  {
   "cell_type": "markdown",
   "metadata": {},
   "source": [
    "## Learner"
   ]
  },
  {
   "cell_type": "code",
   "execution_count": 45,
   "metadata": {},
   "outputs": [],
   "source": [
    "def objective(theta, inj, ref, tol=1e-16):\n",
    "    x, v, c = solve_for_theta(inj, theta * scale, tau=0.0001, tol=tol)\n",
    "    vr = np.array([vv[0] * np.sin(xx[0]) + vv[1] * np.cos(xx[0]) for xx, vv in zip(x, v)]).reshape((1, -1))\n",
    "    vi = np.array([- vv[0] * np.cos(xx[0]) + vv[1] * np.sin(xx[0]) for xx, vv in zip(x, v)]).reshape((1, -1))\n",
    "    vvals = np.vstack([vr, vi]).T\n",
    "    vrefs = np.zeros((len(ref), 2))\n",
    "    for t, v in enumerate(ref):\n",
    "        vt = v[0]\n",
    "        anglev = v[1]\n",
    "        v = vt * np.exp(1j * anglev)\n",
    "        vrefs[t, 0] = v.real\n",
    "        vrefs[t, 1] = v.imag\n",
    "    return vvals, vrefs, np.mean(np.linalg.norm(vvals-vrefs, ord=2, axis=1) ** 2, axis=0)\n",
    "\n",
    "def objective_rk(theta, inj, ref, tol=1e-16):\n",
    "    x, v, c = solve_rk(inj, theta * scale, tau=0.0001, tol=tol)\n",
    "    vr = np.array([vv[0] * np.sin(xx[0]) + vv[1] * np.cos(xx[0]) for xx, vv in zip(x, v)]).reshape((1, -1))\n",
    "    vi = np.array([- vv[0] * np.cos(xx[0]) + vv[1] * np.sin(xx[0]) for xx, vv in zip(x, v)]).reshape((1, -1))\n",
    "    vvals = np.vstack([vr, vi]).T\n",
    "    vrefs = np.zeros((len(ref), 2))\n",
    "    for t, v in enumerate(ref):\n",
    "        vt = v[0]\n",
    "        anglev = v[1]\n",
    "        v = vt * np.exp(1j * anglev)\n",
    "        vrefs[t, 0] = v.real\n",
    "        vrefs[t, 1] = v.imag\n",
    "    return vvals, vrefs, np.mean(np.linalg.norm(vvals-vrefs, ord=2, axis=1) ** 2, axis=0)"
   ]
  },
  {
   "cell_type": "markdown",
   "metadata": {},
   "source": [
    "## Testing"
   ]
  },
  {
   "cell_type": "code",
   "execution_count": 7,
   "metadata": {},
   "outputs": [],
   "source": [
    "df = pd.read_csv('./exportedVariables.csv')"
   ]
  },
  {
   "cell_type": "code",
   "execution_count": 8,
   "metadata": {},
   "outputs": [
    {
     "data": {
      "text/html": [
       "<div>\n",
       "<style scoped>\n",
       "    .dataframe tbody tr th:only-of-type {\n",
       "        vertical-align: middle;\n",
       "    }\n",
       "\n",
       "    .dataframe tbody tr th {\n",
       "        vertical-align: top;\n",
       "    }\n",
       "\n",
       "    .dataframe thead th {\n",
       "        text-align: right;\n",
       "    }\n",
       "</style>\n",
       "<table border=\"1\" class=\"dataframe\">\n",
       "  <thead>\n",
       "    <tr style=\"text-align: right;\">\n",
       "      <th></th>\n",
       "      <th>time</th>\n",
       "      <th>machine3.gen3.P</th>\n",
       "      <th>machine3.gen3.Q</th>\n",
       "      <th>machine3.gen3.v</th>\n",
       "      <th>machine3.gen3.anglev</th>\n",
       "    </tr>\n",
       "  </thead>\n",
       "  <tbody>\n",
       "    <tr>\n",
       "      <th>0</th>\n",
       "      <td>0.0000</td>\n",
       "      <td>19.98</td>\n",
       "      <td>9.67925</td>\n",
       "      <td>1.0</td>\n",
       "      <td>28.3429</td>\n",
       "    </tr>\n",
       "    <tr>\n",
       "      <th>1</th>\n",
       "      <td>0.0001</td>\n",
       "      <td>19.98</td>\n",
       "      <td>9.67925</td>\n",
       "      <td>1.0</td>\n",
       "      <td>28.3429</td>\n",
       "    </tr>\n",
       "    <tr>\n",
       "      <th>2</th>\n",
       "      <td>0.0002</td>\n",
       "      <td>19.98</td>\n",
       "      <td>9.67925</td>\n",
       "      <td>1.0</td>\n",
       "      <td>28.3429</td>\n",
       "    </tr>\n",
       "    <tr>\n",
       "      <th>3</th>\n",
       "      <td>0.0003</td>\n",
       "      <td>19.98</td>\n",
       "      <td>9.67925</td>\n",
       "      <td>1.0</td>\n",
       "      <td>28.3429</td>\n",
       "    </tr>\n",
       "    <tr>\n",
       "      <th>4</th>\n",
       "      <td>0.0004</td>\n",
       "      <td>19.98</td>\n",
       "      <td>9.67925</td>\n",
       "      <td>1.0</td>\n",
       "      <td>28.3429</td>\n",
       "    </tr>\n",
       "  </tbody>\n",
       "</table>\n",
       "</div>"
      ],
      "text/plain": [
       "     time  machine3.gen3.P  machine3.gen3.Q  machine3.gen3.v  \\\n",
       "0  0.0000            19.98          9.67925              1.0   \n",
       "1  0.0001            19.98          9.67925              1.0   \n",
       "2  0.0002            19.98          9.67925              1.0   \n",
       "3  0.0003            19.98          9.67925              1.0   \n",
       "4  0.0004            19.98          9.67925              1.0   \n",
       "\n",
       "   machine3.gen3.anglev  \n",
       "0               28.3429  \n",
       "1               28.3429  \n",
       "2               28.3429  \n",
       "3               28.3429  \n",
       "4               28.3429  "
      ]
     },
     "execution_count": 8,
     "metadata": {},
     "output_type": "execute_result"
    }
   ],
   "source": [
    "df.head()"
   ]
  },
  {
   "cell_type": "code",
   "execution_count": 9,
   "metadata": {},
   "outputs": [],
   "source": [
    "df = df.drop_duplicates('time')"
   ]
  },
  {
   "cell_type": "code",
   "execution_count": 10,
   "metadata": {},
   "outputs": [],
   "source": [
    "df = df.drop(['time'], axis=1)"
   ]
  },
  {
   "cell_type": "code",
   "execution_count": 11,
   "metadata": {},
   "outputs": [],
   "source": [
    "df.columns = ['p', 'q', 'v', 'phi']"
   ]
  },
  {
   "cell_type": "code",
   "execution_count": 12,
   "metadata": {},
   "outputs": [],
   "source": [
    "df.phi = df.phi * np.pi / 180"
   ]
  },
  {
   "cell_type": "markdown",
   "metadata": {},
   "source": [
    "### Testing solver"
   ]
  },
  {
   "cell_type": "code",
   "execution_count": 50,
   "metadata": {},
   "outputs": [
    {
     "name": "stdout",
     "output_type": "stream",
     "text": [
      "3.969788701571794e-06\n"
     ]
    }
   ],
   "source": [
    "vvals, vrefs, v = objective_rk(theta_true_scaled, df[['p', 'q']].values, df[['v', 'phi']].values)\n",
    "print(v)"
   ]
  },
  {
   "cell_type": "markdown",
   "metadata": {},
   "source": [
    "### Bayesian low-dim"
   ]
  },
  {
   "cell_type": "code",
   "execution_count": 28,
   "metadata": {},
   "outputs": [],
   "source": [
    "theta_true = np.array([1., 0.003, 0.3, 1.81, 1.76,\n",
    "                       3.5, 0., 8., 10., 10., 0.05,\n",
    "                       0.02, 0.015, 1., 1., 0.0001, 200])\n",
    "scale = np.array([10., 0.01, 1., 10., 10.,\n",
    "                  10., 1., 10., 10., 10., 0.1,\n",
    "                  0.1, 0.1, 1., 1., 0.001, 1000])\n",
    "theta_true_scaled = theta_true / scale"
   ]
  },
  {
   "cell_type": "code",
   "execution_count": 29,
   "metadata": {},
   "outputs": [],
   "source": [
    "options = {'c1': 0.5, 'c2': 0.3, 'w': 0.9}\n",
    "optimizer = ps.single.GlobalBestPSO(10, 17, options)\n",
    "# 1 particle = 4 s\n",
    "# 5 particles = 44 s\n",
    "# 10 particles = 140 s"
   ]
  },
  {
   "cell_type": "code",
   "execution_count": 30,
   "metadata": {},
   "outputs": [],
   "source": [
    "def opt_fn(x):\n",
    "    return objective(x, df[['p', 'q']].values, df[['v', 'phi']].values, 1e-3)[2]\n",
    "\n",
    "def opt_fn_rk(x):\n",
    "    return objective_rk(x, df[['p', 'q']].values, df[['v', 'phi']].values, 1e-3)[2]"
   ]
  },
  {
   "cell_type": "code",
   "execution_count": 31,
   "metadata": {},
   "outputs": [
    {
     "name": "stderr",
     "output_type": "stream",
     "text": [
      "2019-04-13 15:28:45,169 - pyswarms.single.global_best - INFO - Optimize for 10 iters with {'c1': 0.5, 'c2': 0.3, 'w': 0.9}\n",
      "\n",
      "\n",
      "\n",
      "\n",
      "\n",
      "\n",
      "pyswarms.single.global_best:   0%|          |0/10\u001b[A\u001b[A\u001b[A\u001b[A\u001b[A\u001b[A\n",
      "\n",
      "\n",
      "\n",
      "\n",
      "\n",
      "pyswarms.single.global_best:   0%|          |0/10, best_cost=0.000538\u001b[A\u001b[A\u001b[A\u001b[A\u001b[A\u001b[A\n",
      "\n",
      "\n",
      "\n",
      "\n",
      "\n",
      "pyswarms.single.global_best:  10%|█         |1/10, best_cost=0.000538\u001b[A\u001b[A\u001b[A\u001b[A\u001b[A\u001b[A\n",
      "\n",
      "\n",
      "\n",
      "\n",
      "\n",
      "pyswarms.single.global_best:  10%|█         |1/10, best_cost=0.000538\u001b[A\u001b[A\u001b[A\u001b[A\u001b[A\u001b[A\n",
      "\n",
      "\n",
      "\n",
      "\n",
      "\n",
      "pyswarms.single.global_best:  20%|██        |2/10, best_cost=0.000538\u001b[A\u001b[A\u001b[A\u001b[A\u001b[A\u001b[A\n",
      "\n",
      "\n",
      "\n",
      "\n",
      "\n",
      "pyswarms.single.global_best:  20%|██        |2/10, best_cost=0.000538\u001b[A\u001b[A\u001b[A\u001b[A\u001b[A\u001b[A\n",
      "\n",
      "\n",
      "\n",
      "\n",
      "\n",
      "pyswarms.single.global_best:  30%|███       |3/10, best_cost=0.000538\u001b[A\u001b[A\u001b[A\u001b[A\u001b[A\u001b[A\n",
      "\n",
      "\n",
      "\n",
      "\n",
      "\n",
      "pyswarms.single.global_best:  30%|███       |3/10, best_cost=0.000538\u001b[A\u001b[A\u001b[A\u001b[A\u001b[A\u001b[A\n",
      "\n",
      "\n",
      "\n",
      "\n",
      "\n",
      "pyswarms.single.global_best:  40%|████      |4/10, best_cost=0.000538\u001b[A\u001b[A\u001b[A\u001b[A\u001b[A\u001b[A\n",
      "\n",
      "\n",
      "\n",
      "\n",
      "\n",
      "pyswarms.single.global_best:  40%|████      |4/10, best_cost=0.000538\u001b[A\u001b[A\u001b[A\u001b[A\u001b[A\u001b[A\n",
      "\n",
      "\n",
      "\n",
      "\n",
      "\n",
      "pyswarms.single.global_best:  50%|█████     |5/10, best_cost=0.000538\u001b[A\u001b[A\u001b[A\u001b[A\u001b[A\u001b[A/Users/nickstulov/.virtualenvs/venv3/lib/python3.6/site-packages/ipykernel_launcher.py:19: RuntimeWarning: overflow encountered in double_scalars\n",
      "/Users/nickstulov/.virtualenvs/venv3/lib/python3.6/site-packages/ipykernel_launcher.py:18: RuntimeWarning: overflow encountered in double_scalars\n",
      "/Users/nickstulov/.virtualenvs/venv3/lib/python3.6/site-packages/ipykernel_launcher.py:17: RuntimeWarning: overflow encountered in double_scalars\n",
      "\n",
      "\n",
      "\n",
      "\n",
      "\n",
      "\n",
      "pyswarms.single.global_best:  50%|█████     |5/10, best_cost=0.000538\u001b[A\u001b[A\u001b[A\u001b[A\u001b[A\u001b[A\n",
      "\n",
      "\n",
      "\n",
      "\n",
      "\n",
      "pyswarms.single.global_best:  60%|██████    |6/10, best_cost=0.000538\u001b[A\u001b[A\u001b[A\u001b[A\u001b[A\u001b[A\n",
      "\n",
      "\n",
      "\n",
      "\n",
      "\n",
      "pyswarms.single.global_best:  60%|██████    |6/10, best_cost=0.000538\u001b[A\u001b[A\u001b[A\u001b[A\u001b[A\u001b[A\n",
      "\n",
      "\n",
      "\n",
      "\n",
      "\n",
      "pyswarms.single.global_best:  70%|███████   |7/10, best_cost=0.000538\u001b[A\u001b[A\u001b[A\u001b[A\u001b[A\u001b[A\n",
      "\n",
      "\n",
      "\n",
      "\n",
      "\n",
      "pyswarms.single.global_best:  70%|███████   |7/10, best_cost=0.000538\u001b[A\u001b[A\u001b[A\u001b[A\u001b[A\u001b[A\n",
      "\n",
      "\n",
      "\n",
      "\n",
      "\n",
      "pyswarms.single.global_best:  80%|████████  |8/10, best_cost=0.000538\u001b[A\u001b[A\u001b[A\u001b[A\u001b[A\u001b[A\n",
      "\n",
      "\n",
      "\n",
      "\n",
      "\n",
      "pyswarms.single.global_best:  80%|████████  |8/10, best_cost=0.000538\u001b[A\u001b[A\u001b[A\u001b[A\u001b[A\u001b[A\n",
      "\n",
      "\n",
      "\n",
      "\n",
      "\n",
      "pyswarms.single.global_best:  90%|█████████ |9/10, best_cost=0.000538\u001b[A\u001b[A\u001b[A\u001b[A\u001b[A\u001b[A/Users/nickstulov/.virtualenvs/venv3/lib/python3.6/site-packages/ipykernel_launcher.py:20: RuntimeWarning: invalid value encountered in add\n",
      "\n",
      "\n",
      "\n",
      "\n",
      "\n",
      "\n",
      "pyswarms.single.global_best:  90%|█████████ |9/10, best_cost=0.000538\u001b[A\u001b[A\u001b[A\u001b[A\u001b[A\u001b[A\n",
      "\n",
      "\n",
      "\n",
      "\n",
      "\n",
      "pyswarms.single.global_best: 100%|██████████|10/10, best_cost=0.000538\u001b[A\u001b[A\u001b[A\u001b[A\u001b[A\u001b[A\n",
      "\n",
      "\n",
      "\n",
      "\n",
      "\n",
      "\u001b[A\u001b[A\u001b[A\u001b[A\u001b[A\u001b[A2019-04-13 16:08:43,619 - pyswarms.single.global_best - INFO - Optimization finished | best cost: 0.00053835009693365, best pos: [0.09934728 0.96333251 0.08483298 0.55532058 0.10950189 0.26347804\n",
      " 0.01165225 0.50496542 0.83875697 0.71895811 0.95656883 0.40931035\n",
      " 0.55100714 0.18718586 0.04498203 0.89483414 0.92664516]\n"
     ]
    }
   ],
   "source": [
    "best_cost, best_pos = optimizer.optimize(lambda x: np.apply_along_axis(opt_fn, 1, x), 10, fast=True)"
   ]
  },
  {
   "cell_type": "code",
   "execution_count": 32,
   "metadata": {},
   "outputs": [],
   "source": [
    "theta0 = best_pos"
   ]
  },
  {
   "cell_type": "code",
   "execution_count": 33,
   "metadata": {},
   "outputs": [],
   "source": [
    "nm_result = minimize(opt_fn, x0=theta0, method='Nelder-Mead', tol=1e-6)"
   ]
  },
  {
   "cell_type": "code",
   "execution_count": 37,
   "metadata": {},
   "outputs": [
    {
     "data": {
      "text/plain": [
       "4.184391761892774e-06"
      ]
     },
     "execution_count": 37,
     "metadata": {},
     "output_type": "execute_result"
    }
   ],
   "source": [
    "opt_fn(nm_result.x)"
   ]
  },
  {
   "cell_type": "code",
   "execution_count": 38,
   "metadata": {},
   "outputs": [],
   "source": [
    "vvals, vrefs, _ = objective(nm_result.x, df[['p', 'q']].values, df[['v', 'phi']].values)"
   ]
  },
  {
   "cell_type": "code",
   "execution_count": 41,
   "metadata": {},
   "outputs": [
    {
     "data": {
      "text/plain": [
       "Text(0.5, 1.0, 'Vi')"
      ]
     },
     "execution_count": 41,
     "metadata": {},
     "output_type": "execute_result"
    },
    {
     "data": {
      "image/png": "[encoded data removed]",
      "text/plain": [
       "<Figure size 1440x720 with 2 Axes>"
      ]
     },
     "metadata": {},
     "output_type": "display_data"
    }
   ],
   "source": [
    "_, ax = plt.subplots(1, 2, figsize=(20,10))\n",
    "ax[0].plot(vvals[:, 0], label='pred')\n",
    "ax[0].plot(vrefs[:, 0], label='true')\n",
    "ax[0].set_title('Vr')\n",
    "ax[1].plot(vvals[:, 1], label='pred')\n",
    "ax[1].plot(vrefs[:, 1], label='true')\n",
    "ax[1].set_title('Vi')"
   ]
  },
  {
   "cell_type": "code",
   "execution_count": null,
   "metadata": {},
   "outputs": [],
   "source": [
    "bfgs_result = minimize(opt_fn, x0=theta0, method='BFGS', tol=1e-6)"
   ]
  },
  {
   "cell_type": "markdown",
   "metadata": {},
   "source": [
    "### Testing learner"
   ]
  },
  {
   "cell_type": "code",
   "execution_count": null,
   "metadata": {},
   "outputs": [],
   "source": [
    "old_settings = np.seterr(all='raise')"
   ]
  },
  {
   "cell_type": "code",
   "execution_count": null,
   "metadata": {},
   "outputs": [],
   "source": [
    "theta_pred = learning(injection=df[['p', 'q']].values,\n",
    "                      reference=df['v'].values,\n",
    "                      stepsize=lambda k: max(1e-5, 1 / (1 + k % 50)), steps=1000,\n",
    "                      alpha=0, eps=1e-8, nu=1e3, mu=1e3)\n",
    "print(learning_scale(theta_pred))"
   ]
  },
  {
   "cell_type": "code",
   "execution_count": null,
   "metadata": {},
   "outputs": [],
   "source": [
    "x, v, c = solve_for_theta(df[['p', 'q']].values, learning_scale(theta_pred), tau=0.0001)"
   ]
  },
  {
   "cell_type": "code",
   "execution_count": null,
   "metadata": {},
   "outputs": [],
   "source": [
    "Vs = [np.sqrt(xx[0] ** 2 + xx[1] ** 2) for xx in v]"
   ]
  },
  {
   "cell_type": "code",
   "execution_count": null,
   "metadata": {},
   "outputs": [],
   "source": [
    "plt.figure(figsize=(20,10))\n",
    "plt.plot(Vs, label='predicted')\n",
    "plt.plot(df.v.values, label='true')\n",
    "# plt.plot(np.abs(df.v.values - Vs))\n",
    "plt.legend()"
   ]
  },
  {
   "cell_type": "code",
   "execution_count": null,
   "metadata": {},
   "outputs": [],
   "source": [
    "np.seterr(**old_settings)"
   ]
  },
  {
   "cell_type": "code",
   "execution_count": null,
   "metadata": {},
   "outputs": [],
   "source": [
    "theta_true = np.array([1., 0.003, 0.3, 1.81, 1.76,\n",
    "                       3.5, 0., 8., 10., 10., 0.05,\n",
    "                       0.02, 0.015, 1., 1., 0.0001, 200])\n",
    "# ws, ra, x1d, xd, xq, H, KD, T1d0, Kw, Tw, Tpss1, Tpss2, Tr, Tavr1, Tavr2, Te, K0 = theta"
   ]
  },
  {
   "cell_type": "code",
   "execution_count": null,
   "metadata": {},
   "outputs": [],
   "source": [
    "ra, x1d, xq, e1q, p, q, vd, vq, delta = sympy.symbols('ra x1d xq e1q p q vd vq delta')"
   ]
  },
  {
   "cell_type": "code",
   "execution_count": null,
   "metadata": {},
   "outputs": [],
   "source": [
    "solution = sympy.solve_poly_system([-ra*vd**2 -ra*vq**2+(x1d-xq)*vd*vq +xq*vd*e1q +e1q*ra*vq-(x1d*xq+ra**2)*p,\n",
    "                                    -x1d*vd**2-xq*vq**2-ra*vd*e1q+vq*xq*e1q-(x1d*xq+ra**2)*q], vd, vq)"
   ]
  },
  {
   "cell_type": "code",
   "execution_count": null,
   "metadata": {
    "scrolled": true
   },
   "outputs": [],
   "source": [
    "x, v, c = get_initial_values(P0=1997.9999999936396,\n",
    "                             Q0=967.9249699065775,\n",
    "                             V0=1.0,\n",
    "                             angle0=0.494677176989154,\n",
    "                             theta0=theta_true)"
   ]
  },
  {
   "cell_type": "code",
   "execution_count": null,
   "metadata": {},
   "outputs": [],
   "source": [
    "xval, yval = solution[1][0], solution[1][1]"
   ]
  },
  {
   "cell_type": "code",
   "execution_count": null,
   "metadata": {},
   "outputs": [],
   "source": [
    "solution[0][0]"
   ]
  },
  {
   "cell_type": "code",
   "execution_count": null,
   "metadata": {},
   "outputs": [],
   "source": [
    "sympy.N(sympy.sqrt((xval * sympy.sin(delta) + yval * sympy.cos(delta)) ** 2 + \\\n",
    "                   (-xval * sympy.cos(delta) + yval * sympy.sin(delta)) ** 2),\n",
    "        subs={ra: 3e-3, x1d: 0.3, xq: 1.76, e1q: x[-1], p: 19.97, q: 9.67, delta: x[0]})"
   ]
  },
  {
   "cell_type": "code",
   "execution_count": null,
   "metadata": {},
   "outputs": [],
   "source": [
    "sympy.N(-ra*vd**2 -ra*vq**2+(x1d-xq)*vd*vq +xq*vd*e1q +e1q*ra*vq-(x1d*xq+ra**2)*p, \n",
    "        subs={ra: 3e-3, x1d: 0.3, xq: 1.76, e1q: x[-1], p: 19.97, q: 9.67,\n",
    "              delta: x[0], vd: solution[0][0], vq: solution[0][1]})"
   ]
  },
  {
   "cell_type": "code",
   "execution_count": null,
   "metadata": {},
   "outputs": [],
   "source": []
  },
  {
   "cell_type": "code",
   "execution_count": null,
   "metadata": {},
   "outputs": [],
   "source": [
    "np.sqrt(v[0] ** 2 + v[1] ** 2)"
   ]
  },
  {
   "cell_type": "code",
   "execution_count": null,
   "metadata": {
    "scrolled": true
   },
   "outputs": [],
   "source": [
    "x[0]"
   ]
  },
  {
   "cell_type": "markdown",
   "metadata": {},
   "source": [
    "## New objective"
   ]
  },
  {
   "cell_type": "code",
   "execution_count": null,
   "metadata": {},
   "outputs": [],
   "source": []
  }
 ],
 "metadata": {
  "kernelspec": {
   "display_name": "Python 3",
   "language": "python",
   "name": "python3"
  },
  "language_info": {
   "codemirror_mode": {
    "name": "ipython",
    "version": 3
   },
   "file_extension": ".py",
   "mimetype": "text/x-python",
   "name": "python",
   "nbconvert_exporter": "python",
   "pygments_lexer": "ipython3",
   "version": "3.6.3"
  }
 },
 "nbformat": 4,
 "nbformat_minor": 2
}
