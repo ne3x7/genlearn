{
 "cells": [
  {
   "cell_type": "code",
   "execution_count": 1,
   "metadata": {},
   "outputs": [
    {
     "name": "stderr",
     "output_type": "stream",
     "text": [
      "/Users/nickstulov/.virtualenvs/venv3/lib/python3.6/site-packages/h5py/__init__.py:36: FutureWarning: Conversion of the second argument of issubdtype from `float` to `np.floating` is deprecated. In future, it will be treated as `np.float64 == np.dtype(float).type`.\n",
      "  from ._conv import register_converters as _register_converters\n",
      "Using TensorFlow backend.\n"
     ]
    }
   ],
   "source": [
    "import numpy as np\n",
    "import pandas as pd\n",
    "import seaborn as sns\n",
    "from livelossplot import PlotLosses\n",
    "from tqdm import tnrange, tqdm_notebook\n",
    "from keras import backend as K\n",
    "from keras.models import Model, Sequential\n",
    "from keras.layers import Input, LSTM, Dense, BatchNormalization, Dropout, LeakyReLU, Lambda\n",
    "from keras.layers import Conv2D, MaxPool2D, Flatten, Reshape\n",
    "from keras.layers.wrappers import TimeDistributed\n",
    "from sklearn.preprocessing import StandardScaler\n",
    "from matplotlib import pyplot as plt\n",
    "from IPython import display as dp\n",
    "import os\n",
    "import pickle\n",
    "\n",
    "sns.set_style('whitegrid')\n",
    "sns.despine()\n",
    "\n",
    "dp.set_matplotlib_formats('retina')\n",
    "\n",
    "%matplotlib inline"
   ]
  },
  {
   "cell_type": "code",
   "execution_count": 2,
   "metadata": {},
   "outputs": [],
   "source": [
    "epochs = 10000\n",
    "batch_size = 50\n",
    "num_hidden = 100\n",
    "num_vars = 2\n",
    "horizon = 30\n",
    "dropout = 0.1"
   ]
  },
  {
   "cell_type": "code",
   "execution_count": 3,
   "metadata": {},
   "outputs": [],
   "source": [
    "with open('sc.pickle', 'rb') as f:\n",
    "    sc = pickle.load(f)"
   ]
  },
  {
   "cell_type": "code",
   "execution_count": 4,
   "metadata": {},
   "outputs": [],
   "source": [
    "flen = 151\n",
    "fnames = os.listdir('data_sparse')\n",
    "if '.DS_Store' in fnames:\n",
    "    fnames.pop(fnames.index('.DS_Store'))\n",
    "data = np.zeros((len(fnames), flen, num_vars * 2))\n",
    "for i, fname in enumerate(fnames):\n",
    "    df = pd.read_csv(os.path.join('data_sparse', fname)).drop(['t'], axis=1)\n",
    "    data[i] = sc.transform(df.values)"
   ]
  },
  {
   "cell_type": "code",
   "execution_count": 5,
   "metadata": {},
   "outputs": [],
   "source": [
    "conv_1_dim = 100\n",
    "conv_1_size = 10\n",
    "maxpool_1_size = 2"
   ]
  },
  {
   "cell_type": "code",
   "execution_count": 6,
   "metadata": {},
   "outputs": [],
   "source": [
    "model = Sequential()\n",
    "model.add(Reshape((flen, num_vars, 1), input_shape=(flen, num_vars)))\n",
    "model.add(Dropout(0.1))\n",
    "model.add(Conv2D(conv_1_dim, (conv_1_size, num_vars), activation='relu', \n",
    "                 kernel_regularizer='l2', bias_regularizer='l2'))\n",
    "model.add(MaxPool2D((maxpool_1_size, 1)))\n",
    "model.add(Dropout(0.1))\n",
    "model.add(Flatten())\n",
    "model.add(Dense(flen * num_vars, kernel_regularizer='l2', \n",
    "                activity_regularizer='l2', bias_regularizer='l2'))\n",
    "model.add(Reshape((flen, num_vars)))"
   ]
  },
  {
   "cell_type": "code",
   "execution_count": 7,
   "metadata": {},
   "outputs": [],
   "source": [
    "def nrmse(y_true, y_pred):\n",
    "    return K.mean(K.sqrt(K.mean(K.sum((y_true - y_pred) ** 2, axis=2), axis=1)) \\\n",
    "                  / K.sqrt(K.mean(K.sum(y_true ** 2, axis=2), axis=1)))"
   ]
  },
  {
   "cell_type": "code",
   "execution_count": 8,
   "metadata": {},
   "outputs": [],
   "source": [
    "model.compile(optimizer='adam', loss='mse', metrics=[nrmse])"
   ]
  },
  {
   "cell_type": "code",
   "execution_count": 10,
   "metadata": {},
   "outputs": [
    {
     "data": {
      "application/vnd.jupyter.widget-view+json": {
       "model_id": "2ba154b8ce98436abf6e8c3bc6d86061",
       "version_major": 2,
       "version_minor": 0
      },
      "text/html": [
       "<p>Failed to display Jupyter Widget of type <code>HBox</code>.</p>\n",
       "<p>\n",
       "  If you're reading this message in the Jupyter Notebook or JupyterLab Notebook, it may mean\n",
       "  that the widgets JavaScript is still loading. If this message persists, it\n",
       "  likely means that the widgets JavaScript library is either not installed or\n",
       "  not enabled. See the <a href=\"https://ipywidgets.readthedocs.io/en/stable/user_install.html\">Jupyter\n",
       "  Widgets Documentation</a> for setup instructions.\n",
       "</p>\n",
       "<p>\n",
       "  If you're reading this message in another frontend (for example, a static\n",
       "  rendering on GitHub or <a href=\"https://nbviewer.jupyter.org/\">NBViewer</a>),\n",
       "  it may mean that your frontend doesn't currently support widgets.\n",
       "</p>\n"
      ],
      "text/plain": [
       "HBox(children=(IntProgress(value=0, max=10001), HTML(value='')))"
      ]
     },
     "metadata": {},
     "output_type": "display_data"
    },
    {
     "name": "stdout",
     "output_type": "stream",
     "text": [
      "Epoch 1000 rolling mean RMSE 0.996 max 0.996 min 0.995\n",
      "Epoch 2000 rolling mean RMSE 0.996 max 0.996 min 0.995\n",
      "Epoch 3000 rolling mean RMSE 0.996 max 0.996 min 0.995\n",
      "Epoch 4000 rolling mean RMSE 0.996 max 1.014 min 0.996\n",
      "Epoch 5000 rolling mean RMSE 0.996 max 0.997 min 0.996\n",
      "Epoch 6000 rolling mean RMSE 0.996 max 0.996 min 0.996\n",
      "Epoch 7000 rolling mean RMSE 0.996 max 0.996 min 0.996\n",
      "Epoch 8000 rolling mean RMSE 0.996 max 0.996 min 0.996\n",
      "Epoch 9000 rolling mean RMSE 0.996 max 0.996 min 0.996\n",
      "Epoch 10000 rolling mean RMSE 0.996 max 0.996 min 0.996\n",
      "\n"
     ]
    }
   ],
   "source": [
    "rolling = []\n",
    "for epoch in tnrange(int(1e4)+1):\n",
    "    idx = np.random.randint(len(data), size=batch_size)\n",
    "    batch = data[idx]\n",
    "    hist_mse, hist_nrmse = model.train_on_batch(batch[:, :, :2],\n",
    "                                                batch[:, :, 2:])\n",
    "    rolling.append(hist_nrmse)\n",
    "    if epoch > 0 and epoch % 1000 == 0:\n",
    "        print('Epoch', epoch, 'rolling mean RMSE', np.mean(rolling).round(3),\n",
    "              'max', np.max(rolling).round(3), 'min', np.min(rolling).round(3))\n",
    "        rolling = []"
   ]
  },
  {
   "cell_type": "code",
   "execution_count": null,
   "metadata": {},
   "outputs": [],
   "source": [
    "model.save_weights('model_cnn_oneconv_reg.h5')"
   ]
  },
  {
   "cell_type": "code",
   "execution_count": null,
   "metadata": {},
   "outputs": [],
   "source": [
    "vals = pd.read_csv('data_sparse_test/data_1811.csv').drop(['t'], axis=1).values"
   ]
  },
  {
   "cell_type": "code",
   "execution_count": null,
   "metadata": {},
   "outputs": [],
   "source": [
    "vals = sc.transform(vals)"
   ]
  },
  {
   "cell_type": "code",
   "execution_count": null,
   "metadata": {},
   "outputs": [],
   "source": [
    "inputs = vals[:, :2]\n",
    "outputs = vals[:, 2:]"
   ]
  },
  {
   "cell_type": "code",
   "execution_count": null,
   "metadata": {},
   "outputs": [],
   "source": [
    "predicted = model.predict(np.expand_dims(inputs, 0))[0]"
   ]
  },
  {
   "cell_type": "code",
   "execution_count": null,
   "metadata": {},
   "outputs": [],
   "source": [
    "# var_names = ['$V$', '$\\\\varphi$', '$P$', '$Q$']\n",
    "var_names = ['$P$', '$Q$']"
   ]
  },
  {
   "cell_type": "code",
   "execution_count": null,
   "metadata": {},
   "outputs": [],
   "source": [
    "fig, axes = plt.subplots(1, 2, figsize=(20,10))\n",
    "fig.tight_layout(h_pad=4.0)\n",
    "for i, (ax, name) in enumerate(zip(axes.flatten(), var_names)):\n",
    "    ax.plot(predicted[:, i], c='r', label='pred')\n",
    "    ax.plot(outputs[:, i], c='b', label='true')\n",
    "    ax.set_title(name, fontsize='xx-large')\n",
    "    ax.legend(loc='best', fontsize='xx-large')"
   ]
  },
  {
   "cell_type": "code",
   "execution_count": null,
   "metadata": {},
   "outputs": [],
   "source": [
    "fig, axes = plt.subplots(1, 2, figsize=(20,10))\n",
    "fig.tight_layout(h_pad=4.0)\n",
    "for i, (ax, name) in enumerate(zip(axes.flatten(), var_names)):\n",
    "    ax.plot(predicted[:, i], c='r', label='pred')\n",
    "    ax.plot(outputs[:, i], c='b', label='true')\n",
    "    ax.set_title(name, fontsize='xx-large')\n",
    "    ax.legend(loc='best', fontsize='xx-large')"
   ]
  },
  {
   "cell_type": "code",
   "execution_count": null,
   "metadata": {},
   "outputs": [],
   "source": [
    "model.save_weights('model.h5')"
   ]
  },
  {
   "cell_type": "code",
   "execution_count": null,
   "metadata": {},
   "outputs": [],
   "source": [
    "encoder_model.save_weights('model_encoder.h5')"
   ]
  },
  {
   "cell_type": "code",
   "execution_count": null,
   "metadata": {},
   "outputs": [],
   "source": [
    "decoder_model.save_weights('model_decoder.h5')"
   ]
  },
  {
   "cell_type": "code",
   "execution_count": null,
   "metadata": {},
   "outputs": [],
   "source": [
    "files_valid = os.listdir('data_sparse_val')\n",
    "n_files = len(files_valid)\n",
    "fnames = ['data_sparse_val/' + fname for fname in files_valid if fname != '.DS_Store']\n",
    "vals = [pd.read_csv(fname).drop(['t'], axis=1).values for fname in fnames]\n",
    "true = [val[:, 2:] for val in vals]\n",
    "vals = [sc.transform(val) for val in vals]\n",
    "inputs = [val[:, :2] for val in vals]\n",
    "    \n",
    "predicted = model.predict(np.array(inputs))\n",
    "predicted = sc.inverse_transform(np.concatenate([inputs, predicted], axis=2))[:, :, 2:]\n",
    "    \n",
    "errs = [np.sqrt(np.mean(np.sum((t - p) ** 2, axis=1))) / np.sqrt(np.mean(np.sum(t ** 2, axis=1))) \\\n",
    "        for t, p in zip(true, predicted)]"
   ]
  },
  {
   "cell_type": "code",
   "execution_count": null,
   "metadata": {},
   "outputs": [],
   "source": [
    "plt.figure(figsize=(20,10))\n",
    "sns.distplot(errs)"
   ]
  },
  {
   "cell_type": "code",
   "execution_count": null,
   "metadata": {},
   "outputs": [],
   "source": [
    "print(len(np.where(np.array(errs) <= 0.05)[0]) / len(errs),\n",
    "      np.percentile(errs, 95), np.mean(errs), np.median(errs))"
   ]
  },
  {
   "cell_type": "code",
   "execution_count": null,
   "metadata": {},
   "outputs": [],
   "source": [
    "np.argmax(errs)"
   ]
  },
  {
   "cell_type": "code",
   "execution_count": null,
   "metadata": {},
   "outputs": [],
   "source": [
    "np.argmin(errs)"
   ]
  },
  {
   "cell_type": "code",
   "execution_count": null,
   "metadata": {},
   "outputs": [],
   "source": [
    "fig, axes = plt.subplots(1, 2, figsize=(20,10))\n",
    "fig.tight_layout(h_pad=4.0)\n",
    "for i, (ax, name) in enumerate(zip(axes.flatten(), var_names)):\n",
    "    ax.plot(predicted[197, :, i], c='r', label='pred')\n",
    "    ax.plot(np.array(true)[197, :, i], c='b', label='true')\n",
    "    ax.set_title(name, fontsize='xx-large')\n",
    "    ax.legend(loc='best', fontsize='xx-large')"
   ]
  },
  {
   "cell_type": "code",
   "execution_count": null,
   "metadata": {},
   "outputs": [],
   "source": [
    "fig, axes = plt.subplots(1, 2, figsize=(20,10))\n",
    "fig.tight_layout(h_pad=4.0)\n",
    "for i, (ax, name) in enumerate(zip(axes.flatten(), var_names)):\n",
    "    ax.plot(predicted[182, :, i], c='r', label='pred')\n",
    "    ax.plot(np.array(true)[182, :, i], c='b', label='true')\n",
    "    ax.set_title(name, fontsize='xx-large')\n",
    "    ax.legend(loc='best', fontsize='xx-large')"
   ]
  },
  {
   "cell_type": "code",
   "execution_count": null,
   "metadata": {},
   "outputs": [],
   "source": [
    "!mv cnn.h5 model_cnn_oneconv.h5"
   ]
  },
  {
   "cell_type": "code",
   "execution_count": null,
   "metadata": {},
   "outputs": [],
   "source": []
  }
 ],
 "metadata": {
  "kernelspec": {
   "display_name": "Python 3",
   "language": "python",
   "name": "python3"
  },
  "language_info": {
   "codemirror_mode": {
    "name": "ipython",
    "version": 3
   },
   "file_extension": ".py",
   "mimetype": "text/x-python",
   "name": "python",
   "nbconvert_exporter": "python",
   "pygments_lexer": "ipython3",
   "version": "3.6.3"
  }
 },
 "nbformat": 4,
 "nbformat_minor": 2
}
