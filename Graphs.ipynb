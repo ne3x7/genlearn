{
 "cells": [
  {
   "cell_type": "code",
   "execution_count": 1,
   "metadata": {},
   "outputs": [],
   "source": [
    "import numpy as np\n",
    "import pandas as pd\n",
    "import seaborn as sns\n",
    "from matplotlib.collections import PatchCollection\n",
    "\n",
    "sns.set(style='whitegrid', font_scale=2)\n",
    "sns.despine()\n",
    "\n",
    "from matplotlib import pyplot as plt\n",
    "\n",
    "%matplotlib inline"
   ]
  },
  {
   "cell_type": "code",
   "execution_count": 2,
   "metadata": {},
   "outputs": [],
   "source": [
    "def arrowed_spines(fig, ax):\n",
    "\n",
    "    xmin, xmax = ax.get_xlim() \n",
    "    ymin, ymax = ax.get_ylim()\n",
    "\n",
    "    # removing the default axis on all sides:\n",
    "    for side in ['bottom','right','top','left']:\n",
    "        ax.spines[side].set_visible(False)\n",
    "\n",
    "    # removing the axis ticks\n",
    "    plt.xticks([]) # labels \n",
    "    plt.yticks([])\n",
    "    ax.xaxis.set_ticks_position('none') # tick markers\n",
    "    ax.yaxis.set_ticks_position('none')\n",
    "\n",
    "    # get width and height of axes object to compute \n",
    "    # matching arrowhead length and width\n",
    "    dps = fig.dpi_scale_trans.inverted()\n",
    "    bbox = ax.get_window_extent().transformed(dps)\n",
    "    width, height = bbox.width, bbox.height\n",
    "\n",
    "    # manual arrowhead width and length\n",
    "    hw = 1./20.*(ymax-ymin) \n",
    "    hl = 1./20.*(xmax-xmin)\n",
    "    lw = 1. # axis line width\n",
    "    ohg = 0.3 # arrow overhang\n",
    "\n",
    "    # compute matching arrowhead length and width\n",
    "    yhw = hw/(ymax-ymin)*(xmax-xmin)* height/width \n",
    "    yhl = hl/(xmax-xmin)*(ymax-ymin)* width/height\n",
    "\n",
    "    # draw x and y axis\n",
    "    ax.arrow(xmin, 0, xmax-xmin, 0., fc='k', ec='k', lw = lw, \n",
    "             head_width=hw, head_length=hl, overhang = ohg, \n",
    "             length_includes_head= True, clip_on = False) \n",
    "\n",
    "    ax.arrow(0, ymin, 0., ymax-ymin, fc='k', ec='k', lw = lw, \n",
    "             head_width=yhw, head_length=yhl, overhang = ohg, \n",
    "             length_includes_head= True, clip_on = False)"
   ]
  },
  {
   "cell_type": "code",
   "execution_count": 31,
   "metadata": {},
   "outputs": [],
   "source": [
    "patches = []\n",
    "patches.append(plt.matplotlib.patches.Circle((0.2, 0.8), 0.15))\n",
    "patches.append(plt.matplotlib.patches.Circle((0.2, 0.4), 0.15))\n",
    "patches.append(plt.matplotlib.patches.Circle((0.8, 0.2), 0.15))\n",
    "patches.append(plt.matplotlib.patches.Circle((0.5, 0.8), 0.15))"
   ]
  },
  {
   "cell_type": "code",
   "execution_count": 32,
   "metadata": {},
   "outputs": [],
   "source": [
    "pc = PatchCollection(patches, alpha=0.3)"
   ]
  },
  {
   "cell_type": "code",
   "execution_count": 33,
   "metadata": {},
   "outputs": [
    {
     "data": {
      "image/png": "[encoded data removed]",
      "text/plain": [
       "<Figure size 360x360 with 1 Axes>"
      ]
     },
     "metadata": {},
     "output_type": "display_data"
    }
   ],
   "source": [
    "fig, ax = plt.subplots(figsize=(5,5))\n",
    "ax.add_collection(pc)\n",
    "ax.text(0.2, 0.8, 'LSTM', horizontalalignment='center', verticalalignment='center', fontdict={'fontsize': 'xx-large'})\n",
    "ax.text(0.2, 0.4, 'VAR', horizontalalignment='center', verticalalignment='center', fontdict={'fontsize': 'xx-large'})\n",
    "ax.text(0.8, 0.2, 'ODE', horizontalalignment='center', verticalalignment='center', fontdict={'fontsize': 'xx-large'})\n",
    "ax.text(0.5, 0.8, 'NeuralODE', horizontalalignment='center', verticalalignment='center', fontdict={'fontsize': 'xx-large'})\n",
    "ax.set_xlabel('Explainability')\n",
    "ax.set_ylabel('Efficiency')\n",
    "arrowed_spines(fig, ax)"
   ]
  },
  {
   "cell_type": "code",
   "execution_count": null,
   "metadata": {},
   "outputs": [],
   "source": []
  }
 ],
 "metadata": {
  "kernelspec": {
   "display_name": "Python 3",
   "language": "python",
   "name": "python3"
  },
  "language_info": {
   "codemirror_mode": {
    "name": "ipython",
    "version": 3
   },
   "file_extension": ".py",
   "mimetype": "text/x-python",
   "name": "python",
   "nbconvert_exporter": "python",
   "pygments_lexer": "ipython3",
   "version": "3.6.3"
  }
 },
 "nbformat": 4,
 "nbformat_minor": 2
}
