{
 "cells": [
  {
   "cell_type": "code",
   "execution_count": 1,
   "metadata": {},
   "outputs": [],
   "source": [
    "import numpy as np\n",
    "import pandas as pd\n",
    "\n",
    "from scipy.optimize import minimize\n",
    "\n",
    "import IPython.display as dp\n",
    "import matplotlib.pyplot as plt\n",
    "import seaborn as sns\n",
    "import os\n",
    "\n",
    "import pyswarms as ps\n",
    "\n",
    "dp.set_matplotlib_formats('retina')\n",
    "sns.set_style('whitegrid')\n",
    "sns.despine()\n",
    "\n",
    "%matplotlib notebook"
   ]
  },
  {
   "cell_type": "markdown",
   "metadata": {},
   "source": [
    "## Solver"
   ]
  },
  {
   "cell_type": "markdown",
   "metadata": {},
   "source": [
    "This code initializes generator state variables and network terminal variables"
   ]
  },
  {
   "cell_type": "code",
   "execution_count": 25,
   "metadata": {},
   "outputs": [],
   "source": [
    "def get_initial_values(P0, Q0, V0, angle0, theta0, Sn=2220, Vn=400, fn=60, Sb=100, Vb=400):\n",
    "    \"\"\"\n",
    "    Initializes generator state vector `x` and network terminal variables vector `V`\n",
    "    in machine base from given power flow values in system base and angle in radians.\n",
    "    \"\"\"\n",
    "    \n",
    "    # unpack parameters guess\n",
    "    \n",
    "    ra, x1d, xd, xq, H, T1d0, Kw, Tw, Tpss1, Tpss2, Tr, Tavr1, Tavr2, Te, K0 = theta0\n",
    "    ws = 1\n",
    "    KD = 0\n",
    "    \n",
    "    # define transforms\n",
    "    \n",
    "    # vf_MB = vf * Vb / Vn\n",
    "    wb = 2 * np.pi * fn\n",
    "    S_SBtoMB = Sb / Sn\n",
    "    V_MBtoSB = Vn / Vb\n",
    "    I_MBtoSB = Sn * Vb / (Sb * Vn)\n",
    "    Z_MBtoSB = Sb * Vn ** 2 / (Sn * Vb ** 2)\n",
    "    \n",
    "    # initialize stator quantitites\n",
    "    \n",
    "    p0 = P0 / Sb\n",
    "    q0 = Q0 / Sb\n",
    "    Vt0 = V0 * np.exp(1j * angle0)\n",
    "    S0 = p0 - 1j * q0\n",
    "    I0 = S0 / Vt0.conjugate()\n",
    "    vr0 = Vt0.real\n",
    "    vi0 = Vt0.imag\n",
    "    ir0 = -I0.real\n",
    "    ii0 = -I0.imag\n",
    "    \n",
    "    # initialize DQ-quantities\n",
    "    \n",
    "    w0 = 1\n",
    "    delta0 = np.angle(Vt0 + (ra + 1j * xq) * Z_MBtoSB * I0)\n",
    "    \n",
    "    Vdq0 = Vt0 * (1 / V_MBtoSB) * np.exp(1j * (-delta0 + np.pi/2))\n",
    "    Idq0 = I0 * (1 / I_MBtoSB) * np.exp(1j * (-delta0 + np.pi/2))\n",
    "    \n",
    "    vd0 = Vdq0.real\n",
    "    vq0 = Vdq0.imag\n",
    "    id0 = Idq0.real\n",
    "    iq0 = Idq0.imag\n",
    "    \n",
    "    # initialize order 3\n",
    "    \n",
    "    e1q0 = vq0 + ra * iq0 + x1d * id0\n",
    "    \n",
    "    # initialize AVR\n",
    "    \n",
    "    v = np.abs(Vt0)\n",
    "    vref = v\n",
    "    vs0 = 0\n",
    "    vm0 = v\n",
    "    vf0 = (e1q0 + (xd - x1d) * id0) * V_MBtoSB\n",
    "    vr0 = K0 * (1 - Tavr1 / Tavr2) * (vref + vs0 - vm0)\n",
    "    \n",
    "    # initialize PSS\n",
    "    \n",
    "    v20 = 0\n",
    "    \n",
    "    # constants\n",
    "    \n",
    "    pm = (vq0 + ra * iq0) * iq0 + (vd0 + ra * id0) * id0\n",
    "    vsmin, vsmax = -0.2, 0.2\n",
    "    vfmin, vfmax = -6.4, 7\n",
    "    \n",
    "    # pack values\n",
    "    \n",
    "    x = np.array([delta0, w0, v20, vs0, vm0, vr0, vf0, e1q0])\n",
    "    V = np.array([vd0, vq0, id0, iq0])\n",
    "    c = np.array([pm, vsmin, vsmax, vfmin, vfmax, vref, vf0, vs0, wb, KD, ws])\n",
    "    \n",
    "    return x, V, c"
   ]
  },
  {
   "cell_type": "markdown",
   "metadata": {},
   "source": [
    "This code solves non-liear constraint optimization"
   ]
  },
  {
   "cell_type": "code",
   "execution_count": 41,
   "metadata": {},
   "outputs": [],
   "source": [
    "def constraint_objective(x, xx, c, S, theta):\n",
    "    delta, w, v2, vs, vm, vr, vf, e1q = xx\n",
    "    vd, vq, id, iq = x\n",
    "    pm, vsmin, vsmax, vfmin, vfmax, vref, vf0, s0, wb, KD, ws = c\n",
    "    p, q = S\n",
    "    ra, x1d, xd, xq, H, T1d0, Kw, Tw, Tpss1, Tpss2, Tr, Tavr1, Tavr2, Te, K0 = theta\n",
    "    vt = np.sqrt(vd ** 2 + vq ** 2)\n",
    "    \n",
    "    res = np.array([\n",
    "        (x1d * xq + ra ** 2) * id - (xq * e1q - xq * vq - ra * vd),\n",
    "        (x1d * xq + ra ** 2) * iq - (ra * e1q - ra * vq + x1d * vd),\n",
    "        vd * id + vq * iq - p / 22.2,\n",
    "        vq * id - vd * iq - q / 22.2\n",
    "    ])\n",
    "    \n",
    "    return np.linalg.norm(res, 2) ** 2\n",
    "\n",
    "def constraint_objective2(theta, x, xx, c, S):\n",
    "    return constraint_objective(x, xx, c, S, theta)\n",
    "\n",
    "def constraint_jacobian(x, xx, c, S, theta):\n",
    "    delta, w, v2, vs, vm, vr, vf, e1q = xx\n",
    "    vd, vq, id, iq = x\n",
    "    pm, vsmin, vsmax, vfmin, vfmax, vref, vf0, s0, wb, KD, ws = c\n",
    "    p, q = S\n",
    "    ra, x1d, xd, xq, H, T1d0, Kw, Tw, Tpss1, Tpss2, Tr, Tavr1, Tavr2, Te, K0 = theta\n",
    "    vt = np.sqrt(vd ** 2 + vq ** 2)\n",
    "    \n",
    "    dif = 2 * np.array([\n",
    "        (x1d * xq + ra ** 2) * id - (xq * e1q - xq * vq - ra * vd),\n",
    "        (x1d * xq + ra ** 2) * iq - (ra * e1q - ra * vq + x1d * vd),\n",
    "        vd * id + vq * iq - p / 22.2,\n",
    "        vq * id - vd * iq - q / 22.2\n",
    "    ])\n",
    "    \n",
    "    m = np.array([\n",
    "        [ra, -x1d, id, -iq],\n",
    "        [xq, ra, iq, id],\n",
    "        [(x1d * xq + ra ** 2), 0, vd, vq],\n",
    "        [0, (x1d * xq + ra ** 2), vq, -vd]\n",
    "    ])\n",
    "    \n",
    "    return m @ dif\n",
    "\n",
    "def constraint_jacobian2(theta, x, xx, c, S):\n",
    "    delta, w, v2, vs, vm, vr, vf, e1q = xx\n",
    "    vd, vq, id, iq = x\n",
    "    pm, vsmin, vsmax, vfmin, vfmax, vref, vf0, s0, wb, KD, ws = c\n",
    "    p, q = S\n",
    "    ra, x1d, xd, xq, H, T1d0, Kw, Tw, Tpss1, Tpss2, Tr, Tavr1, Tavr2, Te, K0 = theta\n",
    "    vt = np.sqrt(vd ** 2 + vq ** 2)\n",
    "    \n",
    "    dif = 2 * np.array([\n",
    "        (x1d * xq + ra ** 2) * id - (xq * e1q - xq * vq - ra * vd),\n",
    "        (x1d * xq + ra ** 2) * iq - (ra * e1q - ra * vq + x1d * vd),\n",
    "        vd * id + vq * iq - p / 22.2,\n",
    "        vq * id - vd * iq - q / 22.2\n",
    "    ])\n",
    "    \n",
    "    m = np.array([\n",
    "        [2 * ra * id + vd, 2 * ra * iq - e1q + vq, 0, 0],\n",
    "        [xq * id, xq * iq - vd, 0, 0],\n",
    "        [0, 0, 0, 0],\n",
    "        [x1d * id - e1q + vq, x1d * iq, 0, 0],\n",
    "        [0, 0, 0, 0],\n",
    "        [0, 0, 0, 0],\n",
    "        [0, 0, 0, 0],\n",
    "        [0, 0, 0, 0],\n",
    "        [0, 0, 0, 0],\n",
    "        [0, 0, 0, 0],\n",
    "        [0, 0, 0, 0],\n",
    "        [0, 0, 0, 0],\n",
    "        [0, 0, 0, 0],\n",
    "        [0, 0, 0, 0],\n",
    "        [0, 0, 0, 0]\n",
    "    ])\n",
    "    \n",
    "    return m @ dif\n",
    "\n",
    "def constraint_solve(x, V, c, S, theta, threshold=1e-16):\n",
    "    if constraint_objective(V, x, c, S, theta) < threshold:\n",
    "        return V\n",
    "    else:\n",
    "        return minimize(constraint_objective,\n",
    "                        x0=V,\n",
    "                        args=(x, c, S, theta),\n",
    "                        method='L-BFGS-B',\n",
    "                        jac=constraint_jacobian, bounds=[(0., None)] * 4).x"
   ]
  },
  {
   "cell_type": "markdown",
   "metadata": {},
   "source": [
    "This code defines transition from one time step to another"
   ]
  },
  {
   "cell_type": "code",
   "execution_count": 27,
   "metadata": {},
   "outputs": [],
   "source": [
    "def transition(x, V, c, S, theta, tau=0.1, tol=1e-16):\n",
    "    delta, w, v2, vs, vm, vr, vf, e1q = x\n",
    "    pm, vsmin, vsmax, vfmin, vfmax, vref, vf0, s0, wb, KD, ws = c\n",
    "    p, q = S\n",
    "    ra, x1d, xd, xq, H, T1d0, Kw, Tw, Tpss1, Tpss2, Tr, Tavr1, Tavr2, Te, K0 = theta\n",
    "    \n",
    "    Vnew = constraint_solve(x, V, c, S, theta, threshold=tol)\n",
    "    vd, vq, id, iq = Vnew\n",
    "    vt = np.sqrt(vd ** 2 + vq ** 2)\n",
    "    \n",
    "    xnew = x + tau * np.array([\n",
    "        wb * (w - ws),\n",
    "        ws * (pm - (vq + ra * iq) * iq - (vd + ra * id) * id - KD * (w / ws - 1)) / (2 * H),\n",
    "        Kw * ws * (pm - (vq + ra * iq) * iq - (vd + ra * id) * id - KD * (w / ws - 1)) / (2 * H) - v2 / Tw,\n",
    "        (Tpss1 * (Kw * ws * (pm - (vq + ra * iq) * iq - (vd + ra * id) * id \\\n",
    "                             - KD * (w / ws - 1)) / (2 * H) - v2 / Tw) + v2 - vs) / Tpss2,\n",
    "        (vt - vm) / Tr,\n",
    "        (K0 * (1 - Tavr1 / Tavr2) * (vref + vs - vm) - vr) / Tavr2,\n",
    "        ((vr + K0 * Tavr1 * (vref + vs - vm) / Tavr2 + vf0) * (1 + s0 * (vt / vm - 1)) - vf) / Te,\n",
    "        (- e1q - (xd - x1d) * id + vf) / T1d0\n",
    "    ])\n",
    "    \n",
    "    xnew[3] = max(vsmin, min(vsmax, xnew[3]))\n",
    "    xnew[6] = max(vfmin, min(vfmax, xnew[6]))\n",
    "    \n",
    "    return xnew, Vnew"
   ]
  },
  {
   "cell_type": "markdown",
   "metadata": {},
   "source": [
    "This code defines interface to solver in one function call"
   ]
  },
  {
   "cell_type": "code",
   "execution_count": 28,
   "metadata": {},
   "outputs": [],
   "source": [
    "def solve(df, tau=0.1, tol=1e-16):\n",
    "    theta0 = np.array([0.003, 0.3, 1.81, 1.76,\n",
    "                       3.5, 8., 10., 10., 0.05,\n",
    "                       0.02, 0.015, 1., 1., 0.0001, 200])\n",
    "    x0, V0, c = get_initial_values(P0=1997.9999999936396,\n",
    "                                   Q0=967.9249699065775,\n",
    "                                   V0=1.0,\n",
    "                                   angle0=0.494677176989154,\n",
    "                                   theta0=theta0)\n",
    "    xs = [x0]\n",
    "    Vs = [V0]\n",
    "    for t in range(1, len(df)):\n",
    "        xnew, Vnew = transition(xs[-1], Vs[-1], c, df[['p', 'q']].values[t], theta0, tau=tau, tol=tol)\n",
    "        xs.append(xnew)\n",
    "        Vs.append(Vnew)\n",
    "        \n",
    "    return xs, Vs\n",
    "\n",
    "def solve_for_theta(injection, theta, tau=0.1, tol=1e-16):\n",
    "    x0, V0, c = get_initial_values(P0=1997.9999999936396,\n",
    "                                   Q0=967.9249699065775,\n",
    "                                   V0=1.0,\n",
    "                                   angle0=0.494677176989154,\n",
    "                                   theta0=theta)\n",
    "    xs = [x0]\n",
    "    Vs = [V0]\n",
    "    for t in range(1, injection.shape[0]):\n",
    "        xnew, Vnew = transition(xs[-1], Vs[-1], c, injection[t], theta, tau=tau, tol=tol)\n",
    "        xs.append(xnew)\n",
    "        Vs.append(Vnew)\n",
    "        \n",
    "    return xs, Vs, c"
   ]
  },
  {
   "cell_type": "markdown",
   "metadata": {},
   "source": [
    "## Learner"
   ]
  },
  {
   "cell_type": "markdown",
   "metadata": {},
   "source": [
    "This code defines the ODE part and its derivative"
   ]
  },
  {
   "cell_type": "code",
   "execution_count": 29,
   "metadata": {},
   "outputs": [],
   "source": [
    "def learning_f(x, v, c, theta):\n",
    "    \"\"\"\n",
    "    Return f-function value\n",
    "    \"\"\"\n",
    "    pm, vsmin, vsmax, vfmin, vfmax, vref, vf0, s0, wb, KD, ws = c\n",
    "    ra, x1d, xd, xq, H, T1d0, Kw, Tw, Tpss1, Tpss2, Tr, Tavr1, Tavr2, Te, K0 = theta\n",
    "    delta, w, v2, vs, vm, vr, vf, e1q = x\n",
    "    vd, vq, id, iq = v\n",
    "    vt = np.sqrt(vd ** 2 + vq ** 2)\n",
    "    \n",
    "    return np.array([\n",
    "        wb * (w - ws),\n",
    "        ws * (pm - (vq + ra * iq) * iq - (vd + ra * id) * id - KD * (w / ws - 1)) / (2 * H),\n",
    "        Kw * ws * (pm - (vq + ra * iq) * iq - (vd + ra * id) * id - KD * (w / ws - 1)) / (2 * H) - v2 / Tw,\n",
    "        (Tpss1 * (Kw * ws * (pm - (vq + ra * iq) * iq - (vd + ra * id) * id \\\n",
    "                             - KD * (w / ws - 1)) / (2 * H) - v2 / Tw) + v2 - vs) / Tpss2,\n",
    "        (vt - vm) / Tr,\n",
    "        (K0 * (1 - Tavr1 / Tavr2) * (vref + vs - vm) - vr) / Tavr2,\n",
    "        ((vr + K0 * Tavr1 * (vref + vs - vm) / Tavr2 + vf0) * (1 + s0 * (vt / vm - 1)) - vf) / Te,\n",
    "        (- e1q - (xd - x1d) * id + vf) / T1d0\n",
    "    ])\n",
    "\n",
    "def learning_grad_f(x, V, c, theta):\n",
    "    \"\"\"\n",
    "    Retrun f-function gradient w.r.t. theta\n",
    "    \"\"\"\n",
    "    delta, w, v2, vs, vm, vr, vf, e1q = x\n",
    "    vd, vq, id, iq = V\n",
    "    pm, vsmin, vsmax, vfmin, vfmax, vref, vf0, s0, wb, KD, ws = c\n",
    "    ra, x1d, xd, xq, H, T1d0, Kw, Tw, Tpss1, Tpss2, Tr, Tavr1, Tavr2, Te, K0 = theta\n",
    "    vt = np.sqrt(vd ** 2 + vq ** 2)\n",
    "    \n",
    "    g1 = (pm - (vq + ra * iq) * iq - (vd + ra * id) * id + KD) / (2 * H)\n",
    "    g2 = - ws * (iq ** 2 + id ** 2) / (2 * H)\n",
    "    g3 = - ws * (pm - (vq + ra * iq) * iq - (vd + ra * id) * id - KD * (w / ws - 1)) / (2 * H ** 2)\n",
    "    g4 = ws * (w / ws - 1) / (2 * H)\n",
    "    g5 = Kw * g1\n",
    "    g6 = Kw * g2\n",
    "    g7 = Kw * g3\n",
    "    g8 = Kw * g4\n",
    "    g9 = ws * (pm - (vq + ra * iq) * iq - (vd + ra * id) * id - KD * (w / ws - 1)) / (2 * H)\n",
    "    g10 = - v2 / (Tw ** 2)\n",
    "    g11 = g5 * Tpss1 / Tpss2\n",
    "    g12 = g6 * Tpss1 / Tpss2\n",
    "    g13 = g7 * Tpss1 / Tpss2\n",
    "    g14 = g8 * Tpss1 / Tpss2\n",
    "    g15 = g9 * Tpss1 / Tpss2\n",
    "    g16 = g10 * Tpss1 / Tpss2\n",
    "    g17 = Kw * g9 / Tpss2\n",
    "    g18 = - Kw * g9 * Tpss1 / (Tpss2 ** 2)\n",
    "    g19 = - (vt - vm) / (Tr ** 2)\n",
    "    g20 = - K0 * (vref + vs - vm) / (Tavr2 ** 2)\n",
    "    g21 = - (K0 * (vref + vs - vm) - vr) / (Tavr2 ** 2) + 2 * K0 * Tavr1 * (vref + vs - vm) / (Tavr2 ** 3)\n",
    "    g22 = (1 - Tavr1 / Tavr2) * (vref + vs - vm) / Tavr2\n",
    "    g23 = K0 * (vref + vs - vm) * (1 + s0 * (vt / vm - 1)) / (Tavr2 * Te)\n",
    "    g24 = - K0 * Tavr1 * (vref + vs - vm) * (1 + s0 * (vt / vm - 1)) / (Te * Tavr2 ** 2)\n",
    "    g25 = - ((vr + K0 * Tavr1 * (vref + vs - vm) / Tavr2 + vf0) * (1 + s0 * (vt / vm - 1)) - vf) / (Te ** 2)\n",
    "    g26 = Tavr1 * (vref + vs - vm) * (1 + s0 * (vt / vm - 1)) / (Te * Tavr2)\n",
    "    g27 = id / T1d0\n",
    "    g28 = - g27\n",
    "    g29 = - (- e1q - (xd - x1d) * id + vf) / T1d0 ** 2\n",
    "    \n",
    "    jac = np.array([\n",
    "        [0, 0, 0, 0, 0, 0, 0, 0, 0, 0, 0, 0, 0, 0, 0],\n",
    "        [g2, 0, 0, 0, g3, 0, 0, 0, 0, 0, 0, 0, 0, 0, 0],\n",
    "        [g6, 0, 0, 0, g7, 0, g9, g10, 0, 0, 0, 0, 0, 0, 0],\n",
    "        [g12, 0, 0, 0, g13, 0, g15, g16, g17, g18, 0, 0, 0, 0, 0],\n",
    "        [0, 0, 0, 0, 0, 0, 0, 0, 0, 0, g19, 0, 0, 0, 0],\n",
    "        [0, 0, 0, 0, 0, 0, 0, 0, 0, 0, 0, g20, g21, 0, g22],\n",
    "        [0, 0, 0, 0, 0, 0, 0, 0, 0, 0, 0, g23, g24, g25, g26],\n",
    "        [0, g27, g28, 0, 0, g29, 0, 0, 0, 0, 0, 0, 0, 0, 0]\n",
    "    ])\n",
    "    \n",
    "    return jac"
   ]
  },
  {
   "cell_type": "markdown",
   "metadata": {},
   "source": [
    "This code defines the gradient descent in ODEs part"
   ]
  },
  {
   "cell_type": "code",
   "execution_count": 30,
   "metadata": {},
   "outputs": [],
   "source": [
    "def learning_objective(xs, vs, c, theta, tau, alpha, p=1000):\n",
    "    \"\"\"\n",
    "    Objective to minimize. Sum over time of 2nd norm of error in ODEs.\n",
    "    \"\"\"\n",
    "    dxs = [(xp - xm) / tau for xp, xm in zip(xs[1:], xs[:-1])]\n",
    "    \n",
    "    obj = np.mean([np.linalg.norm(learning_f(x, v, c, theta) - dx, ord=2) ** 2 \\\n",
    "                   for x, v, dx in zip(xs[:-1:p], vs[:-1:p], dxs[::p])], axis=0)\n",
    "        \n",
    "    return obj + alpha * np.linalg.norm(theta, ord=2) ** 2 / 2\n",
    "\n",
    "def learning_jacobian_once(x, V, dx, c, theta):\n",
    "    \"\"\"\n",
    "    Objective Jacobian. One timestep.\n",
    "    \"\"\"\n",
    "    jac = learning_grad_f(x, V, c, theta)\n",
    "    F = learning_f(x, V, c, theta) - dx\n",
    "    \n",
    "    return (F @ jac).flatten()\n",
    "    \n",
    "def learning_jacobian(xs, vs, c, theta, tau, alpha, p=1000):\n",
    "    \"\"\"\n",
    "    Objective Jacobian. Decomposes in time.\n",
    "    \"\"\"\n",
    "    dxs = [(xp - xm) / tau for xp, xm in zip(xs[1:], xs[:-1])]\n",
    "    jac = np.mean([2 * learning_jacobian_once(x, v, dx, c, theta) \\\n",
    "                   for x, v, dx in zip(xs[:-1:p], vs[:-1:p], dxs[::p])], axis=0)\n",
    "        \n",
    "    return jac + alpha * theta"
   ]
  },
  {
   "cell_type": "markdown",
   "metadata": {},
   "source": [
    "This code defines the gradient descent in ODEs part with augmentation of algebraic part"
   ]
  },
  {
   "cell_type": "code",
   "execution_count": 31,
   "metadata": {},
   "outputs": [],
   "source": [
    "def learning_objective_augmented(xs, vs, ss, c, theta, tau, lbd, alpha, p=1000):\n",
    "    \"\"\"\n",
    "    Objective to minimize with augmentation.\n",
    "    \"\"\"\n",
    "    obj = learning_objective(xs, vs, c, theta, tau, alpha)\n",
    "    aug = np.mean([constraint_objective(v, x, c, s, theta) \\\n",
    "                   for x, v, s in zip(xs[:-1:p], vs[:-1:p], ss[:-1:p])], axis=0)\n",
    "    \n",
    "    return obj + lbd * aug\n",
    "\n",
    "def learning_jacobian_augmented(xs, vs, ss, c, theta, lbd, tau, alpha):\n",
    "    \"\"\"\n",
    "    Objective Jacobian with augmentation.\n",
    "    \"\"\"\n",
    "    jac = learning_jacobian(xs, vs, c, theta, tau, alpha)\n",
    "    aug = np.mean([constraint_jacobian2(theta, v, x, c, s) \\\n",
    "                   for x, v, s in zip(xs[:-1:p], vs[:-1:p], ss[:-1:p])], axis=0)\n",
    "    \n",
    "    return jac + lbd * aug"
   ]
  },
  {
   "cell_type": "markdown",
   "metadata": {},
   "source": [
    "This code solves initial parameter guess optimization"
   ]
  },
  {
   "cell_type": "code",
   "execution_count": 32,
   "metadata": {},
   "outputs": [],
   "source": [
    "def learning_theta_objective(theta):\n",
    "    x, v, c = get_initial_values(P0=1997.9999999936396,\n",
    "                                 Q0=967.9249699065775,\n",
    "                                 V0=1.0,\n",
    "                                 angle0=0.494677176989154,\n",
    "                                 theta0=theta)\n",
    "    s = np.array([19.979999999936396, 9.679249699065775])\n",
    "    \n",
    "    f = learning_f(x, v, c, theta)\n",
    "    \n",
    "    return constraint_objective2(theta, v, x, c, s) + np.linalg.norm(f, ord=2) ** 2\n",
    "\n",
    "def learning_theta_guess(theta, threshold):\n",
    "    if learning_theta_objective(theta) < threshold:\n",
    "        return theta\n",
    "    else:\n",
    "        return minimize(learning_theta_objective,\n",
    "                        x0=theta, bounds=[(0., None)] * 15).x"
   ]
  },
  {
   "cell_type": "markdown",
   "metadata": {},
   "source": [
    "This code solves constraint (algebraic part) optimization"
   ]
  },
  {
   "cell_type": "code",
   "execution_count": 33,
   "metadata": {},
   "outputs": [],
   "source": [
    "def learning_constraint_objective(theta, xs, vs, ss, c, theta0, lbd, mu, p=1000):\n",
    "    \"\"\"\n",
    "    Constraint to project onto.\n",
    "    \"\"\"\n",
    "    diff = np.linalg.norm(theta - theta0, ord=2) ** 2 / 2\n",
    "    g_constraint = np.mean([constraint_objective2(theta, v, x, c, s) \\\n",
    "                            for x, v, s in zip(xs[:-1:p], vs[:-1:p], ss[:-1:p])], axis=0)\n",
    "    f_constraint = np.linalg.norm(learning_f(xs[0], vs[0], c, theta), ord=2) ** 2 / 2\n",
    "    return diff + lbd * g_constraint + mu * f_constraint\n",
    "    \n",
    "def learning_constraint_jacobian(theta, xs, vs, ss, c, theta0, lbd, mu, p=1000):\n",
    "    \"\"\"\n",
    "    Constraint jacobian.\n",
    "    \"\"\"\n",
    "    diff = theta - theta0\n",
    "    g_constraint = np.mean([constraint_jacobian2(theta, v, x, c, s) \\\n",
    "                            for x, v, s in zip(xs[:-1:p], vs[:-1:p], ss[:-1:p])], axis=0)\n",
    "    f_constraint = 2 * (learning_f(xs[0], vs[0], c, theta) @ learning_grad_f(xs[0], vs[0], c, theta)).flatten()\n",
    "    return diff + lbd * g_constraint + mu * f_constraint\n",
    "\n",
    "def learning_constraint_project(xs, vs, ss, c, theta, lbd, mu, threshold):\n",
    "    if learning_constraint_objective(theta, xs, vs, ss, c, theta, lbd, mu) < threshold:\n",
    "        return theta\n",
    "    else:\n",
    "        return minimize(learning_constraint_objective,\n",
    "                        x0=theta,\n",
    "                        args=(xs, vs, ss, c, theta, lbd, mu),\n",
    "                        method='L-BFGS-B',\n",
    "                        jac=learning_constraint_jacobian, bounds=[(0., None)] * 15).x"
   ]
  },
  {
   "cell_type": "markdown",
   "metadata": {},
   "source": [
    "This code defines an interface for learner in one function call"
   ]
  },
  {
   "cell_type": "code",
   "execution_count": 34,
   "metadata": {},
   "outputs": [],
   "source": [
    "def learning_step(theta, step, jac, projector):\n",
    "    \"\"\"\n",
    "    Performs one gradient update and projection onto feasible region if necessary.\n",
    "    \"\"\"\n",
    "    return projector(theta - step * jac)\n",
    "\n",
    "def learning_scale(theta):\n",
    "    return theta * np.array([0.01, 1, 10, 10, 10, 10, 100, 100, 0.1, 0.1, 0.1, 10, 10, 0.001, 1000])\n",
    "\n",
    "def learning_scale_inv(theta):\n",
    "    return theta / np.array([0.01, 1, 10, 10, 10, 10, 100, 100, 0.1, 0.1, 0.1, 10, 10, 0.001, 1000])\n",
    "\n",
    "def learning_load(fname):\n",
    "    df = pd.read_csv(fname).drop_duplicates('t').drop(['t'], axis=1)\n",
    "    df.phi = df.phi * np.pi / 180\n",
    "    return df[['p', 'q']].values, df[['v', 'phi']].values\n",
    "    \n",
    "def learning(injection, reference=None, method='psgd',\n",
    "             stepsize=None, eta=1., steps=1e2,\n",
    "             eps=1e-3, tau=1e-4, tol=1e-16,\n",
    "             lbd=1e3, alpha=1.0,\n",
    "             nu=1e3, mu=1e3):\n",
    "    \"\"\"\n",
    "    Performs optimization via projected gradient descent or augmentated Jacobain.\n",
    "    \"\"\"\n",
    "    assert method in ['psgd', 'augmented'], 'Method not recognized'\n",
    "    Theta = learning_scale_inv(learning_theta_guess(learning_scale(np.abs(np.random.randn(15) / 10)), tol))\n",
    "    Xs, Vs, C = solve_for_theta(injection, learning_scale(Theta), tau, tol)\n",
    "    step_n = 0\n",
    "    \n",
    "    if method == 'augmented':\n",
    "        lo = lambda xs, vs, ss, c, theta: learning_objective_augmented(xs, vs, ss, c, learning_scale(theta),\n",
    "                                                                       tau, lbd, alpha)\n",
    "        lj = lambda xs, vs, ss, c, theta: learning_jacobian_augmented(xs, vs, ss, c, learning_scale(theta),\n",
    "                                                                      lbd, tau, alpha)\n",
    "        lc = lambda xs, vs, ss, c, theta: theta\n",
    "    else:\n",
    "        lo = lambda xs, vs, ss, c, theta: learning_objective(xs, vs, c, learning_scale(theta), tau, alpha)\n",
    "        lj = lambda xs, vs, ss, c, theta: learning_jacobian(xs, vs, c, learning_scale(theta), tau, alpha)\n",
    "        lc = lambda xs, vs, ss, c, theta: learning_scale_inv(learning_constraint_project(xs, vs, ss, c,\n",
    "                                                                                         learning_scale(theta),\n",
    "                                                                                         nu, mu, tol))\n",
    "        \n",
    "    while step_n < steps and lo(Xs, Vs, injection, C, Theta) > eps:\n",
    "        step = eta * (stepsize(step_n) if stepsize is not None else 1.)\n",
    "        jac = lj(Xs, Vs, injection, C, Theta)\n",
    "        if np.linalg.norm(jac, ord=2) > 1.:\n",
    "            jac = jac / np.linalg.norm(jac, ord=2)\n",
    "        proj = lambda theta: lc(Xs, Vs, injection, C, theta)\n",
    "        Theta = learning_step(Theta, step, jac, proj)\n",
    "        Xs, Vs, C = solve_for_theta(injection, learning_scale(Theta), tau, tol)\n",
    "        step_n += 1\n",
    "        if reference is not None:\n",
    "            pred = np.array([np.sqrt(xx[0] ** 2 + xx[1] ** 2) for xx in Vs])\n",
    "            print('Iteration %4d' % step_n,  'objective val %.3e' % lo(Xs, Vs, injection, C, Theta),\n",
    "                  'solution NRMSE %.3e' % (np.linalg.norm(reference-pred)/np.linalg.norm(reference)))\n",
    "            if step_n % 10 == 0:\n",
    "                plt.plot(pred, label='predicted')\n",
    "                plt.plot(reference, label='true')\n",
    "                plt.show()\n",
    "    return Theta"
   ]
  },
  {
   "cell_type": "code",
   "execution_count": 35,
   "metadata": {},
   "outputs": [],
   "source": [
    "class Learner():\n",
    "    def __init__(self, injections, folder, theta_true, stepsize=None, eta=1., steps=1e2,\n",
    "                 eps=1e-3, tau=1e-4, tol=1e-16, lbd=1e3, alpha=1.0, nu=1e3, mu=1e3):\n",
    "        self.injections = [os.path.join(folder, fname) for fname in injections]\n",
    "        self.theta_true = theta_true\n",
    "        self.stepsize = stepsize\n",
    "        self.steps = steps\n",
    "        self.eta = eta\n",
    "        self.eps = eps\n",
    "        self.tau = tau\n",
    "        self.tol = tol\n",
    "        self.lbd = lbd\n",
    "        self.alpha = alpha\n",
    "        self.nu = nu\n",
    "        self.mu = mu\n",
    "        \n",
    "        self.theta = None\n",
    "        \n",
    "        self.lo = lambda xs, vs, ss, c, y: learning_objective(xs, vs, c, self.inverse_transform(y),\n",
    "                                                              self.tau, self.alpha)\n",
    "        self.lj = lambda xs, vs, ss, c, y: learning_jacobian(xs, vs, c, self.inverse_transform(y),\n",
    "                                                             self.tau, self.alpha)\n",
    "        self.lc = lambda xs, vs, ss, c, y: self.transform(learning_constraint_project(xs, vs, ss, c,\n",
    "                                                                                      self.inverse_transform(y),\n",
    "                                                                                      self.nu, self.mu, self.tol))\n",
    "\n",
    "    def transform(self, x):\n",
    "        return x / np.array([0.01, 1., 10., 10., 10., 10., 10., 10., 0.1, 0.1, 0.1, 1., 1., 0.001, 1000])\n",
    "    \n",
    "    def inverse_transform(self, x):\n",
    "        return x * np.array([0.01, 1., 10., 10., 10., 10., 10., 10., 0.1, 0.1, 0.1, 1., 1., 0.001, 1000])\n",
    "        \n",
    "    def step(self, injection, i, Xs, Vs, C, lobj):\n",
    "        step = self.eta * (self.stepsize(i) if self.stepsize is not None else 1.)\n",
    "        jac = self.lj(Xs, Vs, injection, C, self.theta)\n",
    "        jac = np.clip(jac, -1e3, 1e3)\n",
    "        proj = lambda y: self.lc(Xs, Vs, injection, C, y)\n",
    "        self.theta = learning_step(self.theta, step, jac, proj)\n",
    "        Xs, Vs, C = solve_for_theta(injection, self.inverse_transform(self.theta), self.tau, self.tol)\n",
    "        lobj = self.lo(Xs, Vs, injection, C, self.theta)\n",
    "        return Xs, Vs, C, lobj\n",
    "        \n",
    "    def fit(self, theta0=None):\n",
    "        if theta0 is None:\n",
    "            self.theta = learning_theta_guess(np.abs(np.random.randn(15) * 10), self.tol)\n",
    "            self.theta = self.transform(self.theta)\n",
    "        else:\n",
    "            self.theta = self.transform(theta0)\n",
    "        injection, reference = learning_load(np.random.choice(self.injections))\n",
    "        Xs, Vs, C = solve_for_theta(injection, self.inverse_transform(self.theta), self.tau, self.tol)\n",
    "        lobj = self.lo(Xs, Vs, injection, C, self.theta)\n",
    "        for i in range(self.steps):\n",
    "            Xs, Vs, C, lobj = self.step(injection, i, Xs, Vs, C, lobj)\n",
    "            if i % 50 == 0:\n",
    "                VRs = np.array([vv[0] * np.sin(xx[0]) + vv[1] * np.cos(xx[0]) for vv, xx in zip(Vs, Xs)])\n",
    "                VIs = np.array([- vv[1] * np.sin(xx[0]) + vv[0] * np.cos(xx[0]) for vv, xx in zip(Vs, Xs)])\n",
    "                pred = np.array([[np.sqrt(vr ** 2 + vi ** 2) for vr, vi in zip(VRs, VIs)],\n",
    "                                 [np.arctan2(vi, vr) for vr, vi in zip(VRs, VIs)]]).T\n",
    "                plt.clf()\n",
    "                fig, ax = plt.subplots(1, 2, figsize=(20, 10))\n",
    "                ax[0].plot(pred[:, 0], label='predicted')\n",
    "                ax[0].plot(reference[:, 0], label='true')\n",
    "                ax[0].legend()\n",
    "                ax[0].set_title('V')\n",
    "                ax[1].plot(pred[:, 1], label='predicted')\n",
    "                ax[1].plot(reference[:, 1], label='true')\n",
    "                ax[1].legend()\n",
    "                ax[1].set_title('Phi')\n",
    "                fig.savefig('saved_fig/epoch-%.4d.png' % i)\n",
    "                plt.close()\n",
    "                nrmse = np.sqrt(np.mean(np.linalg.norm(reference-pred, ord=2, axis=1)) ** 2)\n",
    "                nrmse /= np.sqrt(np.mean(np.linalg.norm(reference, ord=2, axis=1) ** 2))\n",
    "                dist = np.linalg.norm(self.inverse_transform(self.theta)-theta_true, ord=2)\n",
    "                print('Iteration %4d' % i,  'objective val %.3e' % lobj,\n",
    "                      'solution NRMSE %.3e' % nrmse,\n",
    "                      'l2 distance to solution %.3e' % dist)\n",
    "            injection, reference = learning_load(np.random.choice(self.injections))"
   ]
  },
  {
   "cell_type": "markdown",
   "metadata": {},
   "source": [
    "## Testing"
   ]
  },
  {
   "cell_type": "code",
   "execution_count": null,
   "metadata": {},
   "outputs": [],
   "source": [
    "df = pd.read_csv('./exportedVariables.csv')"
   ]
  },
  {
   "cell_type": "code",
   "execution_count": null,
   "metadata": {},
   "outputs": [],
   "source": [
    "df.head()"
   ]
  },
  {
   "cell_type": "code",
   "execution_count": null,
   "metadata": {},
   "outputs": [],
   "source": [
    "df = df.drop_duplicates('time')"
   ]
  },
  {
   "cell_type": "code",
   "execution_count": null,
   "metadata": {},
   "outputs": [],
   "source": [
    "df = df.drop(['time'], axis=1)"
   ]
  },
  {
   "cell_type": "code",
   "execution_count": null,
   "metadata": {},
   "outputs": [],
   "source": [
    "df.columns = ['p', 'q', 'v', 'phi']"
   ]
  },
  {
   "cell_type": "code",
   "execution_count": null,
   "metadata": {},
   "outputs": [],
   "source": [
    "df.phi = df.phi * np.pi / 180"
   ]
  },
  {
   "cell_type": "markdown",
   "metadata": {},
   "source": [
    "### Testing learner"
   ]
  },
  {
   "cell_type": "code",
   "execution_count": null,
   "metadata": {},
   "outputs": [],
   "source": [
    "old_settings = np.seterr(all='raise')"
   ]
  },
  {
   "cell_type": "code",
   "execution_count": null,
   "metadata": {},
   "outputs": [],
   "source": [
    "theta_pred = learning(injection=df[['p', 'q']].values,\n",
    "                      reference=df['v'].values,\n",
    "                      stepsize=lambda k: max(1e-5, 1 / (1 + k % 50)), steps=1000,\n",
    "                      alpha=0, eps=1e-8, nu=1e3, mu=1e3)\n",
    "print(learning_scale(theta_pred))"
   ]
  },
  {
   "cell_type": "code",
   "execution_count": null,
   "metadata": {},
   "outputs": [],
   "source": [
    "x, v, c = solve_for_theta(df[['p', 'q']].values, learning_scale(theta_pred), tau=0.0001)"
   ]
  },
  {
   "cell_type": "code",
   "execution_count": null,
   "metadata": {},
   "outputs": [],
   "source": [
    "Vs = [np.sqrt(xx[0] ** 2 + xx[1] ** 2) for xx in v]"
   ]
  },
  {
   "cell_type": "code",
   "execution_count": null,
   "metadata": {},
   "outputs": [],
   "source": [
    "plt.figure(figsize=(20,10))\n",
    "plt.plot(Vs, label='predicted')\n",
    "plt.plot(df.v.values, label='true')\n",
    "# plt.plot(np.abs(df.v.values - Vs))\n",
    "plt.legend()"
   ]
  },
  {
   "cell_type": "code",
   "execution_count": null,
   "metadata": {},
   "outputs": [],
   "source": [
    "np.seterr(**old_settings)"
   ]
  },
  {
   "cell_type": "code",
   "execution_count": null,
   "metadata": {},
   "outputs": [],
   "source": [
    "theta_true = np.array([1., 0.003, 0.3, 1.81, 1.76,\n",
    "                       3.5, 0., 8., 10., 10., 0.05,\n",
    "                       0.02, 0.015, 1., 1., 0.0001, 200])"
   ]
  },
  {
   "cell_type": "markdown",
   "metadata": {},
   "source": [
    "## Learner"
   ]
  },
  {
   "cell_type": "code",
   "execution_count": 14,
   "metadata": {},
   "outputs": [],
   "source": [
    "options = {'c1': 0.5, 'c2': 0.3, 'w': 0.9}\n",
    "optimizer = ps.single.GlobalBestPSO(10, 15, options)"
   ]
  },
  {
   "cell_type": "code",
   "execution_count": 15,
   "metadata": {},
   "outputs": [],
   "source": [
    "def opt_fn(x):\n",
    "    inj, _ = learning_load('data_simple/std_params/R_e1/data_10.csv')\n",
    "    theta = x * np.array([10., 0.01, 1., 10., 10., 10., 10., 10., 10., 0.1, 0.1, 0.1, 1., 1., 0.001, 1000])\n",
    "    Xs, Vs, C = solve_for_theta(inj, theta, tau=1e-4)\n",
    "    l_obj = learning_objective(Xs, Vs, C, x, 1e-4, 0)\n",
    "    g_constraint = np.mean([constraint_objective2(x, v, xx, C, s) \\\n",
    "                            for xx, v, s in zip(Xs[::1000], Vs[::1000], inj[::1000])], axis=0)\n",
    "    f_constraint = np.linalg.norm(learning_f(Xs[0], Vs[0], C, x), ord=2) ** 2 / 2\n",
    "    return l_obj + 1e3 * g_constraint + 1e3 * f_constraint"
   ]
  },
  {
   "cell_type": "code",
   "execution_count": 16,
   "metadata": {},
   "outputs": [
    {
     "name": "stderr",
     "output_type": "stream",
     "text": [
      "2019-04-19 20:21:59,592 - pyswarms.single.global_best - INFO - Optimize for 10 iters with {'c1': 0.5, 'c2': 0.3, 'w': 0.9}\n",
      "pyswarms.single.global_best:  60%|██████    |6/10, best_cost=9.93e+06/Users/nickstulov/.virtualenvs/venv3/lib/python3.6/site-packages/ipykernel_launcher.py:19: RuntimeWarning: overflow encountered in double_scalars\n",
      "/Users/nickstulov/.virtualenvs/venv3/lib/python3.6/site-packages/ipykernel_launcher.py:18: RuntimeWarning: overflow encountered in double_scalars\n",
      "/Users/nickstulov/.virtualenvs/venv3/lib/python3.6/site-packages/ipykernel_launcher.py:20: RuntimeWarning: invalid value encountered in add\n",
      "/Users/nickstulov/.virtualenvs/venv3/lib/python3.6/site-packages/ipykernel_launcher.py:17: RuntimeWarning: overflow encountered in double_scalars\n",
      "/Users/nickstulov/.virtualenvs/venv3/lib/python3.6/site-packages/ipykernel_launcher.py:5: RuntimeWarning: invalid value encountered in subtract\n",
      "  \"\"\"\n",
      "/Users/nickstulov/.virtualenvs/venv3/lib/python3.6/site-packages/pyswarms/backend/operators.py:65: RuntimeWarning: invalid value encountered in less\n",
      "  mask_cost = swarm.current_cost < swarm.pbest_cost\n",
      "pyswarms.single.global_best:  80%|████████  |8/10, best_cost=9.93e+06/Users/nickstulov/.virtualenvs/venv3/lib/python3.6/site-packages/ipykernel_launcher.py:18: RuntimeWarning: invalid value encountered in double_scalars\n",
      "pyswarms.single.global_best:  90%|█████████ |9/10, best_cost=9.93e+06/Users/nickstulov/.virtualenvs/venv3/lib/python3.6/site-packages/ipykernel_launcher.py:19: RuntimeWarning: invalid value encountered in double_scalars\n",
      "pyswarms.single.global_best: 100%|██████████|10/10, best_cost=9.93e+06\n",
      "2019-04-19 22:48:50,754 - pyswarms.single.global_best - INFO - Optimization finished | best cost: 9928741.601412348, best pos: [0.8579505  0.57220029 0.81182032 0.47966603 0.92139521 0.98448733\n",
      " 0.72267892 0.3716682  0.8068963  0.58592995 0.06388621 0.78595318\n",
      " 0.37013925 0.86800754 0.7906139  0.87383136]\n"
     ]
    }
   ],
   "source": [
    "best_cost, best_pos = optimizer.optimize(lambda x: np.apply_along_axis(opt_fn, 1, x), 10, fast=True)"
   ]
  },
  {
   "cell_type": "code",
   "execution_count": 42,
   "metadata": {},
   "outputs": [],
   "source": [
    "lrn = Learner(injections=[xx for xx in os.listdir('data_simple/std_params/R_e1') if xx != '.DS_Store'],\n",
    "              folder='data_simple/std_params/R_e1', theta_true=theta_true,\n",
    "              stepsize=lambda k: max(1e-5, 1 / (1 + k % 100)), eta=1e-3, steps=10000,\n",
    "              alpha=0, eps=1e-9, nu=1e3, mu=1e3)"
   ]
  },
  {
   "cell_type": "code",
   "execution_count": 43,
   "metadata": {},
   "outputs": [
    {
     "name": "stdout",
     "output_type": "stream",
     "text": [
      "Iteration    0 objective val 1.302e-11 solution NRMSE 1.301e+00 l2 distance to solution 1.997e+02\n",
      "Iteration   50 objective val 2.288e-11 solution NRMSE 1.324e+00 l2 distance to solution 1.997e+02\n",
      "Iteration  100 objective val 2.913e-11 solution NRMSE 1.411e+00 l2 distance to solution 1.997e+02\n",
      "Iteration  150 objective val 2.036e-11 solution NRMSE 1.647e+00 l2 distance to solution 1.997e+02\n",
      "Iteration  200 objective val 4.030e-12 solution NRMSE 5.149e-01 l2 distance to solution 1.997e+02\n",
      "Iteration  250 objective val 5.437e-12 solution NRMSE 9.290e-01 l2 distance to solution 1.997e+02\n",
      "Iteration  300 objective val 3.736e-12 solution NRMSE 1.112e+00 l2 distance to solution 1.997e+02\n",
      "Iteration  350 objective val 2.336e-11 solution NRMSE 1.690e+00 l2 distance to solution 1.997e+02\n",
      "Iteration  400 objective val 8.231e-12 solution NRMSE 1.607e+00 l2 distance to solution 1.997e+02\n",
      "Iteration  450 objective val 2.199e-12 solution NRMSE 4.947e-01 l2 distance to solution 1.997e+02\n",
      "Iteration  500 objective val 2.766e-12 solution NRMSE 1.131e+00 l2 distance to solution 1.997e+02\n",
      "Iteration  550 objective val 6.285e-12 solution NRMSE 1.392e+00 l2 distance to solution 1.997e+02\n",
      "Iteration  600 objective val 2.698e-11 solution NRMSE 1.303e+00 l2 distance to solution 1.997e+02\n",
      "Iteration  650 objective val 7.983e-12 solution NRMSE 1.235e+00 l2 distance to solution 1.997e+02\n",
      "Iteration  700 objective val 1.833e-11 solution NRMSE 1.128e+00 l2 distance to solution 1.997e+02\n",
      "Iteration  750 objective val 7.564e-12 solution NRMSE 1.548e+00 l2 distance to solution 1.997e+02\n",
      "Iteration  800 objective val 4.280e-11 solution NRMSE 1.345e+00 l2 distance to solution 1.997e+02\n",
      "Iteration  850 objective val 3.817e-12 solution NRMSE 1.681e+00 l2 distance to solution 1.997e+02\n",
      "Iteration  900 objective val 2.863e-11 solution NRMSE 1.235e+00 l2 distance to solution 1.997e+02\n",
      "Iteration  950 objective val 9.938e-12 solution NRMSE 1.294e+00 l2 distance to solution 1.997e+02\n",
      "Iteration 1000 objective val 1.617e-11 solution NRMSE 1.287e+00 l2 distance to solution 1.997e+02\n",
      "Iteration 1050 objective val 1.039e-11 solution NRMSE 1.340e+00 l2 distance to solution 1.997e+02\n",
      "Iteration 1100 objective val 7.437e-12 solution NRMSE 1.296e+00 l2 distance to solution 1.997e+02\n",
      "Iteration 1150 objective val 9.503e-12 solution NRMSE 6.728e-01 l2 distance to solution 1.997e+02\n",
      "Iteration 1200 objective val 1.473e-11 solution NRMSE 8.889e-01 l2 distance to solution 1.997e+02\n",
      "Iteration 1250 objective val 6.631e-12 solution NRMSE 1.297e+00 l2 distance to solution 1.997e+02\n",
      "Iteration 1300 objective val 7.100e-12 solution NRMSE 1.024e+00 l2 distance to solution 1.997e+02\n",
      "Iteration 1350 objective val 1.248e-11 solution NRMSE 1.060e+00 l2 distance to solution 1.997e+02\n",
      "Iteration 1400 objective val 1.429e-12 solution NRMSE 1.032e+00 l2 distance to solution 1.997e+02\n",
      "Iteration 1450 objective val 9.526e-12 solution NRMSE 1.244e+00 l2 distance to solution 1.997e+02\n",
      "Iteration 1500 objective val 4.520e-12 solution NRMSE 1.059e+00 l2 distance to solution 1.997e+02\n",
      "Iteration 1550 objective val 1.687e-12 solution NRMSE 1.019e+00 l2 distance to solution 1.997e+02\n",
      "Iteration 1600 objective val 2.091e-12 solution NRMSE 1.228e+00 l2 distance to solution 1.997e+02\n",
      "Iteration 1650 objective val 7.433e-12 solution NRMSE 1.159e+00 l2 distance to solution 1.997e+02\n",
      "Iteration 1700 objective val 2.942e-12 solution NRMSE 1.061e+00 l2 distance to solution 1.997e+02\n",
      "Iteration 1750 objective val 4.747e-12 solution NRMSE 1.206e+00 l2 distance to solution 1.997e+02\n",
      "Iteration 1800 objective val 1.845e-11 solution NRMSE 1.401e+00 l2 distance to solution 1.997e+02\n",
      "Iteration 1850 objective val 1.433e-11 solution NRMSE 1.249e+00 l2 distance to solution 1.997e+02\n",
      "Iteration 1900 objective val 1.971e-11 solution NRMSE 1.243e+00 l2 distance to solution 1.997e+02\n",
      "Iteration 1950 objective val 1.075e-11 solution NRMSE 8.012e-01 l2 distance to solution 1.997e+02\n",
      "Iteration 2000 objective val 5.904e-11 solution NRMSE 9.472e-01 l2 distance to solution 1.997e+02\n",
      "Iteration 2050 objective val 7.157e-12 solution NRMSE 1.013e+00 l2 distance to solution 1.997e+02\n",
      "Iteration 2100 objective val 8.765e-13 solution NRMSE 6.201e-01 l2 distance to solution 1.997e+02\n",
      "Iteration 2150 objective val 2.703e-12 solution NRMSE 1.207e+00 l2 distance to solution 1.997e+02\n",
      "Iteration 2200 objective val 3.396e-12 solution NRMSE 1.249e+00 l2 distance to solution 1.997e+02\n",
      "Iteration 2250 objective val 1.145e-12 solution NRMSE 7.504e-01 l2 distance to solution 1.997e+02\n",
      "Iteration 2300 objective val 2.165e-11 solution NRMSE 1.282e+00 l2 distance to solution 1.997e+02\n",
      "Iteration 2350 objective val 2.235e-11 solution NRMSE 1.688e+00 l2 distance to solution 1.997e+02\n",
      "Iteration 2400 objective val 1.243e-12 solution NRMSE 4.949e-01 l2 distance to solution 1.997e+02\n",
      "Iteration 2450 objective val 3.881e-11 solution NRMSE 1.138e+00 l2 distance to solution 1.997e+02\n",
      "Iteration 2500 objective val 3.985e-11 solution NRMSE 1.400e+00 l2 distance to solution 1.997e+02\n",
      "Iteration 2550 objective val 7.898e-12 solution NRMSE 9.557e-01 l2 distance to solution 1.997e+02\n"
     ]
    },
    {
     "ename": "KeyboardInterrupt",
     "evalue": "",
     "output_type": "error",
     "traceback": [
      "\u001b[0;31m---------------------------------------------------------------------------\u001b[0m",
      "\u001b[0;31mKeyboardInterrupt\u001b[0m                         Traceback (most recent call last)",
      "\u001b[0;32m<ipython-input-43-9678dd3628d2>\u001b[0m in \u001b[0;36m<module>\u001b[0;34m()\u001b[0m\n\u001b[0;32m----> 1\u001b[0;31m \u001b[0mlrn\u001b[0m\u001b[0;34m.\u001b[0m\u001b[0mfit\u001b[0m\u001b[0;34m(\u001b[0m\u001b[0mtheta0\u001b[0m\u001b[0;34m=\u001b[0m\u001b[0mbest_pos\u001b[0m\u001b[0;34m[\u001b[0m\u001b[0;36m1\u001b[0m\u001b[0;34m:\u001b[0m\u001b[0;34m]\u001b[0m\u001b[0;34m)\u001b[0m\u001b[0;34m\u001b[0m\u001b[0m\n\u001b[0m",
      "\u001b[0;32m<ipython-input-35-c24d7faaa045>\u001b[0m in \u001b[0;36mfit\u001b[0;34m(self, theta0)\u001b[0m\n\u001b[1;32m     51\u001b[0m         \u001b[0mlobj\u001b[0m \u001b[0;34m=\u001b[0m \u001b[0mself\u001b[0m\u001b[0;34m.\u001b[0m\u001b[0mlo\u001b[0m\u001b[0;34m(\u001b[0m\u001b[0mXs\u001b[0m\u001b[0;34m,\u001b[0m \u001b[0mVs\u001b[0m\u001b[0;34m,\u001b[0m \u001b[0minjection\u001b[0m\u001b[0;34m,\u001b[0m \u001b[0mC\u001b[0m\u001b[0;34m,\u001b[0m \u001b[0mself\u001b[0m\u001b[0;34m.\u001b[0m\u001b[0mtheta\u001b[0m\u001b[0;34m)\u001b[0m\u001b[0;34m\u001b[0m\u001b[0m\n\u001b[1;32m     52\u001b[0m         \u001b[0;32mfor\u001b[0m \u001b[0mi\u001b[0m \u001b[0;32min\u001b[0m \u001b[0mrange\u001b[0m\u001b[0;34m(\u001b[0m\u001b[0mself\u001b[0m\u001b[0;34m.\u001b[0m\u001b[0msteps\u001b[0m\u001b[0;34m)\u001b[0m\u001b[0;34m:\u001b[0m\u001b[0;34m\u001b[0m\u001b[0m\n\u001b[0;32m---> 53\u001b[0;31m             \u001b[0mXs\u001b[0m\u001b[0;34m,\u001b[0m \u001b[0mVs\u001b[0m\u001b[0;34m,\u001b[0m \u001b[0mC\u001b[0m\u001b[0;34m,\u001b[0m \u001b[0mlobj\u001b[0m \u001b[0;34m=\u001b[0m \u001b[0mself\u001b[0m\u001b[0;34m.\u001b[0m\u001b[0mstep\u001b[0m\u001b[0;34m(\u001b[0m\u001b[0minjection\u001b[0m\u001b[0;34m,\u001b[0m \u001b[0mi\u001b[0m\u001b[0;34m,\u001b[0m \u001b[0mXs\u001b[0m\u001b[0;34m,\u001b[0m \u001b[0mVs\u001b[0m\u001b[0;34m,\u001b[0m \u001b[0mC\u001b[0m\u001b[0;34m,\u001b[0m \u001b[0mlobj\u001b[0m\u001b[0;34m)\u001b[0m\u001b[0;34m\u001b[0m\u001b[0m\n\u001b[0m\u001b[1;32m     54\u001b[0m             \u001b[0;32mif\u001b[0m \u001b[0mi\u001b[0m \u001b[0;34m%\u001b[0m \u001b[0;36m50\u001b[0m \u001b[0;34m==\u001b[0m \u001b[0;36m0\u001b[0m\u001b[0;34m:\u001b[0m\u001b[0;34m\u001b[0m\u001b[0m\n\u001b[1;32m     55\u001b[0m                 \u001b[0mVRs\u001b[0m \u001b[0;34m=\u001b[0m \u001b[0mnp\u001b[0m\u001b[0;34m.\u001b[0m\u001b[0marray\u001b[0m\u001b[0;34m(\u001b[0m\u001b[0;34m[\u001b[0m\u001b[0mvv\u001b[0m\u001b[0;34m[\u001b[0m\u001b[0;36m0\u001b[0m\u001b[0;34m]\u001b[0m \u001b[0;34m*\u001b[0m \u001b[0mnp\u001b[0m\u001b[0;34m.\u001b[0m\u001b[0msin\u001b[0m\u001b[0;34m(\u001b[0m\u001b[0mxx\u001b[0m\u001b[0;34m[\u001b[0m\u001b[0;36m0\u001b[0m\u001b[0;34m]\u001b[0m\u001b[0;34m)\u001b[0m \u001b[0;34m+\u001b[0m \u001b[0mvv\u001b[0m\u001b[0;34m[\u001b[0m\u001b[0;36m1\u001b[0m\u001b[0;34m]\u001b[0m \u001b[0;34m*\u001b[0m \u001b[0mnp\u001b[0m\u001b[0;34m.\u001b[0m\u001b[0mcos\u001b[0m\u001b[0;34m(\u001b[0m\u001b[0mxx\u001b[0m\u001b[0;34m[\u001b[0m\u001b[0;36m0\u001b[0m\u001b[0;34m]\u001b[0m\u001b[0;34m)\u001b[0m \u001b[0;32mfor\u001b[0m \u001b[0mvv\u001b[0m\u001b[0;34m,\u001b[0m \u001b[0mxx\u001b[0m \u001b[0;32min\u001b[0m \u001b[0mzip\u001b[0m\u001b[0;34m(\u001b[0m\u001b[0mVs\u001b[0m\u001b[0;34m,\u001b[0m \u001b[0mXs\u001b[0m\u001b[0;34m)\u001b[0m\u001b[0;34m]\u001b[0m\u001b[0;34m)\u001b[0m\u001b[0;34m\u001b[0m\u001b[0m\n",
      "\u001b[0;32m<ipython-input-35-c24d7faaa045>\u001b[0m in \u001b[0;36mstep\u001b[0;34m(self, injection, i, Xs, Vs, C, lobj)\u001b[0m\n\u001b[1;32m     37\u001b[0m         \u001b[0mproj\u001b[0m \u001b[0;34m=\u001b[0m \u001b[0;32mlambda\u001b[0m \u001b[0my\u001b[0m\u001b[0;34m:\u001b[0m \u001b[0mself\u001b[0m\u001b[0;34m.\u001b[0m\u001b[0mlc\u001b[0m\u001b[0;34m(\u001b[0m\u001b[0mXs\u001b[0m\u001b[0;34m,\u001b[0m \u001b[0mVs\u001b[0m\u001b[0;34m,\u001b[0m \u001b[0minjection\u001b[0m\u001b[0;34m,\u001b[0m \u001b[0mC\u001b[0m\u001b[0;34m,\u001b[0m \u001b[0my\u001b[0m\u001b[0;34m)\u001b[0m\u001b[0;34m\u001b[0m\u001b[0m\n\u001b[1;32m     38\u001b[0m         \u001b[0mself\u001b[0m\u001b[0;34m.\u001b[0m\u001b[0mtheta\u001b[0m \u001b[0;34m=\u001b[0m \u001b[0mlearning_step\u001b[0m\u001b[0;34m(\u001b[0m\u001b[0mself\u001b[0m\u001b[0;34m.\u001b[0m\u001b[0mtheta\u001b[0m\u001b[0;34m,\u001b[0m \u001b[0mstep\u001b[0m\u001b[0;34m,\u001b[0m \u001b[0mjac\u001b[0m\u001b[0;34m,\u001b[0m \u001b[0mproj\u001b[0m\u001b[0;34m)\u001b[0m\u001b[0;34m\u001b[0m\u001b[0m\n\u001b[0;32m---> 39\u001b[0;31m         \u001b[0mXs\u001b[0m\u001b[0;34m,\u001b[0m \u001b[0mVs\u001b[0m\u001b[0;34m,\u001b[0m \u001b[0mC\u001b[0m \u001b[0;34m=\u001b[0m \u001b[0msolve_for_theta\u001b[0m\u001b[0;34m(\u001b[0m\u001b[0minjection\u001b[0m\u001b[0;34m,\u001b[0m \u001b[0mself\u001b[0m\u001b[0;34m.\u001b[0m\u001b[0minverse_transform\u001b[0m\u001b[0;34m(\u001b[0m\u001b[0mself\u001b[0m\u001b[0;34m.\u001b[0m\u001b[0mtheta\u001b[0m\u001b[0;34m)\u001b[0m\u001b[0;34m,\u001b[0m \u001b[0mself\u001b[0m\u001b[0;34m.\u001b[0m\u001b[0mtau\u001b[0m\u001b[0;34m,\u001b[0m \u001b[0mself\u001b[0m\u001b[0;34m.\u001b[0m\u001b[0mtol\u001b[0m\u001b[0;34m)\u001b[0m\u001b[0;34m\u001b[0m\u001b[0m\n\u001b[0m\u001b[1;32m     40\u001b[0m         \u001b[0mlobj\u001b[0m \u001b[0;34m=\u001b[0m \u001b[0mself\u001b[0m\u001b[0;34m.\u001b[0m\u001b[0mlo\u001b[0m\u001b[0;34m(\u001b[0m\u001b[0mXs\u001b[0m\u001b[0;34m,\u001b[0m \u001b[0mVs\u001b[0m\u001b[0;34m,\u001b[0m \u001b[0minjection\u001b[0m\u001b[0;34m,\u001b[0m \u001b[0mC\u001b[0m\u001b[0;34m,\u001b[0m \u001b[0mself\u001b[0m\u001b[0;34m.\u001b[0m\u001b[0mtheta\u001b[0m\u001b[0;34m)\u001b[0m\u001b[0;34m\u001b[0m\u001b[0m\n\u001b[1;32m     41\u001b[0m         \u001b[0;32mreturn\u001b[0m \u001b[0mXs\u001b[0m\u001b[0;34m,\u001b[0m \u001b[0mVs\u001b[0m\u001b[0;34m,\u001b[0m \u001b[0mC\u001b[0m\u001b[0;34m,\u001b[0m \u001b[0mlobj\u001b[0m\u001b[0;34m\u001b[0m\u001b[0m\n",
      "\u001b[0;32m<ipython-input-28-7c953d8b1d8d>\u001b[0m in \u001b[0;36msolve_for_theta\u001b[0;34m(injection, theta, tau, tol)\u001b[0m\n\u001b[1;32m     26\u001b[0m     \u001b[0mVs\u001b[0m \u001b[0;34m=\u001b[0m \u001b[0;34m[\u001b[0m\u001b[0mV0\u001b[0m\u001b[0;34m]\u001b[0m\u001b[0;34m\u001b[0m\u001b[0m\n\u001b[1;32m     27\u001b[0m     \u001b[0;32mfor\u001b[0m \u001b[0mt\u001b[0m \u001b[0;32min\u001b[0m \u001b[0mrange\u001b[0m\u001b[0;34m(\u001b[0m\u001b[0;36m1\u001b[0m\u001b[0;34m,\u001b[0m \u001b[0minjection\u001b[0m\u001b[0;34m.\u001b[0m\u001b[0mshape\u001b[0m\u001b[0;34m[\u001b[0m\u001b[0;36m0\u001b[0m\u001b[0;34m]\u001b[0m\u001b[0;34m)\u001b[0m\u001b[0;34m:\u001b[0m\u001b[0;34m\u001b[0m\u001b[0m\n\u001b[0;32m---> 28\u001b[0;31m         \u001b[0mxnew\u001b[0m\u001b[0;34m,\u001b[0m \u001b[0mVnew\u001b[0m \u001b[0;34m=\u001b[0m \u001b[0mtransition\u001b[0m\u001b[0;34m(\u001b[0m\u001b[0mxs\u001b[0m\u001b[0;34m[\u001b[0m\u001b[0;34m-\u001b[0m\u001b[0;36m1\u001b[0m\u001b[0;34m]\u001b[0m\u001b[0;34m,\u001b[0m \u001b[0mVs\u001b[0m\u001b[0;34m[\u001b[0m\u001b[0;34m-\u001b[0m\u001b[0;36m1\u001b[0m\u001b[0;34m]\u001b[0m\u001b[0;34m,\u001b[0m \u001b[0mc\u001b[0m\u001b[0;34m,\u001b[0m \u001b[0minjection\u001b[0m\u001b[0;34m[\u001b[0m\u001b[0mt\u001b[0m\u001b[0;34m]\u001b[0m\u001b[0;34m,\u001b[0m \u001b[0mtheta\u001b[0m\u001b[0;34m,\u001b[0m \u001b[0mtau\u001b[0m\u001b[0;34m=\u001b[0m\u001b[0mtau\u001b[0m\u001b[0;34m,\u001b[0m \u001b[0mtol\u001b[0m\u001b[0;34m=\u001b[0m\u001b[0mtol\u001b[0m\u001b[0;34m)\u001b[0m\u001b[0;34m\u001b[0m\u001b[0m\n\u001b[0m\u001b[1;32m     29\u001b[0m         \u001b[0mxs\u001b[0m\u001b[0;34m.\u001b[0m\u001b[0mappend\u001b[0m\u001b[0;34m(\u001b[0m\u001b[0mxnew\u001b[0m\u001b[0;34m)\u001b[0m\u001b[0;34m\u001b[0m\u001b[0m\n\u001b[1;32m     30\u001b[0m         \u001b[0mVs\u001b[0m\u001b[0;34m.\u001b[0m\u001b[0mappend\u001b[0m\u001b[0;34m(\u001b[0m\u001b[0mVnew\u001b[0m\u001b[0;34m)\u001b[0m\u001b[0;34m\u001b[0m\u001b[0m\n",
      "\u001b[0;32m<ipython-input-27-d6324df9055a>\u001b[0m in \u001b[0;36mtransition\u001b[0;34m(x, V, c, S, theta, tau, tol)\u001b[0m\n\u001b[1;32m      5\u001b[0m     \u001b[0mra\u001b[0m\u001b[0;34m,\u001b[0m \u001b[0mx1d\u001b[0m\u001b[0;34m,\u001b[0m \u001b[0mxd\u001b[0m\u001b[0;34m,\u001b[0m \u001b[0mxq\u001b[0m\u001b[0;34m,\u001b[0m \u001b[0mH\u001b[0m\u001b[0;34m,\u001b[0m \u001b[0mT1d0\u001b[0m\u001b[0;34m,\u001b[0m \u001b[0mKw\u001b[0m\u001b[0;34m,\u001b[0m \u001b[0mTw\u001b[0m\u001b[0;34m,\u001b[0m \u001b[0mTpss1\u001b[0m\u001b[0;34m,\u001b[0m \u001b[0mTpss2\u001b[0m\u001b[0;34m,\u001b[0m \u001b[0mTr\u001b[0m\u001b[0;34m,\u001b[0m \u001b[0mTavr1\u001b[0m\u001b[0;34m,\u001b[0m \u001b[0mTavr2\u001b[0m\u001b[0;34m,\u001b[0m \u001b[0mTe\u001b[0m\u001b[0;34m,\u001b[0m \u001b[0mK0\u001b[0m \u001b[0;34m=\u001b[0m \u001b[0mtheta\u001b[0m\u001b[0;34m\u001b[0m\u001b[0m\n\u001b[1;32m      6\u001b[0m \u001b[0;34m\u001b[0m\u001b[0m\n\u001b[0;32m----> 7\u001b[0;31m     \u001b[0mVnew\u001b[0m \u001b[0;34m=\u001b[0m \u001b[0mconstraint_solve\u001b[0m\u001b[0;34m(\u001b[0m\u001b[0mx\u001b[0m\u001b[0;34m,\u001b[0m \u001b[0mV\u001b[0m\u001b[0;34m,\u001b[0m \u001b[0mc\u001b[0m\u001b[0;34m,\u001b[0m \u001b[0mS\u001b[0m\u001b[0;34m,\u001b[0m \u001b[0mtheta\u001b[0m\u001b[0;34m,\u001b[0m \u001b[0mthreshold\u001b[0m\u001b[0;34m=\u001b[0m\u001b[0mtol\u001b[0m\u001b[0;34m)\u001b[0m\u001b[0;34m\u001b[0m\u001b[0m\n\u001b[0m\u001b[1;32m      8\u001b[0m     \u001b[0mvd\u001b[0m\u001b[0;34m,\u001b[0m \u001b[0mvq\u001b[0m\u001b[0;34m,\u001b[0m \u001b[0mid\u001b[0m\u001b[0;34m,\u001b[0m \u001b[0miq\u001b[0m \u001b[0;34m=\u001b[0m \u001b[0mVnew\u001b[0m\u001b[0;34m\u001b[0m\u001b[0m\n\u001b[1;32m      9\u001b[0m     \u001b[0mvt\u001b[0m \u001b[0;34m=\u001b[0m \u001b[0mnp\u001b[0m\u001b[0;34m.\u001b[0m\u001b[0msqrt\u001b[0m\u001b[0;34m(\u001b[0m\u001b[0mvd\u001b[0m \u001b[0;34m**\u001b[0m \u001b[0;36m2\u001b[0m \u001b[0;34m+\u001b[0m \u001b[0mvq\u001b[0m \u001b[0;34m**\u001b[0m \u001b[0;36m2\u001b[0m\u001b[0;34m)\u001b[0m\u001b[0;34m\u001b[0m\u001b[0m\n",
      "\u001b[0;32m<ipython-input-41-673df6f625a8>\u001b[0m in \u001b[0;36mconstraint_solve\u001b[0;34m(x, V, c, S, theta, threshold)\u001b[0m\n\u001b[1;32m     86\u001b[0m                         \u001b[0margs\u001b[0m\u001b[0;34m=\u001b[0m\u001b[0;34m(\u001b[0m\u001b[0mx\u001b[0m\u001b[0;34m,\u001b[0m \u001b[0mc\u001b[0m\u001b[0;34m,\u001b[0m \u001b[0mS\u001b[0m\u001b[0;34m,\u001b[0m \u001b[0mtheta\u001b[0m\u001b[0;34m)\u001b[0m\u001b[0;34m,\u001b[0m\u001b[0;34m\u001b[0m\u001b[0m\n\u001b[1;32m     87\u001b[0m                         \u001b[0mmethod\u001b[0m\u001b[0;34m=\u001b[0m\u001b[0;34m'L-BFGS-B'\u001b[0m\u001b[0;34m,\u001b[0m\u001b[0;34m\u001b[0m\u001b[0m\n\u001b[0;32m---> 88\u001b[0;31m                         jac=constraint_jacobian, bounds=[(0., None)] * 4).x\n\u001b[0m",
      "\u001b[0;31mKeyboardInterrupt\u001b[0m: "
     ]
    },
    {
     "data": {
      "text/plain": [
       "<Figure size 432x288 with 0 Axes>"
      ]
     },
     "metadata": {},
     "output_type": "display_data"
    }
   ],
   "source": [
    "lrn.fit(theta0=best_pos[1:])"
   ]
  },
  {
   "cell_type": "code",
   "execution_count": 47,
   "metadata": {},
   "outputs": [
    {
     "data": {
      "text/plain": [
       "array([5.72034567e+01, 8.16392597e-01, 4.84268266e-02, 9.20848393e-02,\n",
       "       9.84501468e-02, 7.22686055e-02, 3.71633698e-02, 8.06896301e-02,\n",
       "       5.85908327e+00, 6.40842560e-01, 7.85953184e+00, 3.70139247e-01,\n",
       "       8.68007542e-01, 7.90613896e+02, 8.73831360e-04])"
      ]
     },
     "execution_count": 47,
     "metadata": {},
     "output_type": "execute_result"
    }
   ],
   "source": [
    "lrn.theta"
   ]
  },
  {
   "cell_type": "markdown",
   "metadata": {},
   "source": [
    "## Loss surface"
   ]
  },
  {
   "cell_type": "code",
   "execution_count": 38,
   "metadata": {},
   "outputs": [],
   "source": [
    "theta_true = np.array([0.003, 0.3, 1.81, 1.76,\n",
    "                       3.5, 8., 10., 10., 0.05,\n",
    "                       0.02, 0.015, 1., 1., 0.0001, 200])\n",
    "scale = np.array([0.01, 1., 10., 10.,\n",
    "                  10., 10., 10., 10., 0.1,\n",
    "                  0.1, 0.1, 1., 1., 0.001, 1000])\n",
    "theta_true_scaled = theta_true / scale"
   ]
  },
  {
   "cell_type": "code",
   "execution_count": null,
   "metadata": {},
   "outputs": [],
   "source": [
    "x = np.empty((17, 10))\n",
    "for i, xx in enumerate(theta_true_scaled):\n",
    "    x[i] = np.linspace(xx - 1, xx + 1, 10)"
   ]
  },
  {
   "cell_type": "code",
   "execution_count": null,
   "metadata": {},
   "outputs": [],
   "source": [
    "thetas = x.T"
   ]
  },
  {
   "cell_type": "code",
   "execution_count": null,
   "metadata": {},
   "outputs": [],
   "source": [
    "df = pd.read_csv('./exportedVariables.csv')\n",
    "df = df.drop_duplicates('time')\n",
    "df = df.drop(['time'], axis=1)\n",
    "df.columns = ['p', 'q', 'v', 'phi']\n",
    "df.phi = df.phi * np.pi / 180"
   ]
  },
  {
   "cell_type": "code",
   "execution_count": null,
   "metadata": {},
   "outputs": [],
   "source": [
    "from tqdm import tqdm_notebook"
   ]
  },
  {
   "cell_type": "code",
   "execution_count": null,
   "metadata": {
    "scrolled": true
   },
   "outputs": [],
   "source": [
    "xs = []\n",
    "vs = []\n",
    "cs = []\n",
    "\n",
    "for theta in tqdm_notebook(thetas):\n",
    "    x, v, c = solve_for_theta(df[['p', 'q']].values, theta * scale, tau=0.0001, tol=1e-3)\n",
    "    xs.append(x)\n",
    "    vs.append(v)\n",
    "    cs.append(c)\n",
    "    \n",
    "xs = np.stack(xs)\n",
    "vs = np.stack(vs)\n",
    "cs = np.stack(cs)"
   ]
  },
  {
   "cell_type": "code",
   "execution_count": null,
   "metadata": {},
   "outputs": [],
   "source": [
    "vvals = np.zeros((10, 50001, 2))\n",
    "for i, theta in enumerate(thetas):\n",
    "    for t, (v, x) in enumerate(zip(vs[i], xs[i])):\n",
    "        vd, vq = v[0], v[1]\n",
    "        delta = x[0]\n",
    "        vvals[i, t, 0] = vd * np.sin(delta) + vq * np.cos(delta)\n",
    "        vvals[i, t, 1] = - vd * np.cos(delta) + vq * np.sin(delta)"
   ]
  },
  {
   "cell_type": "code",
   "execution_count": null,
   "metadata": {},
   "outputs": [],
   "source": [
    "vrefs = df[['v', 'phi']].values\n",
    "vrefs.shape"
   ]
  },
  {
   "cell_type": "code",
   "execution_count": null,
   "metadata": {},
   "outputs": [],
   "source": [
    "vrefs2 = np.zeros((1, 50001, 2))\n",
    "for t, v in enumerate(vrefs):\n",
    "    vt = v[0]\n",
    "    anglev = v[1]\n",
    "    v = vt * np.exp(1j * anglev)\n",
    "    vrefs2[0, t, 0] = v.real\n",
    "    vrefs2[0, t, 1] = v.imag"
   ]
  },
  {
   "cell_type": "code",
   "execution_count": null,
   "metadata": {},
   "outputs": [],
   "source": [
    "vrefs2 = np.tile(vrefs2, (10, 1, 1))"
   ]
  },
  {
   "cell_type": "code",
   "execution_count": null,
   "metadata": {},
   "outputs": [],
   "source": [
    "objectives = np.mean(np.linalg.norm(vvals-vrefs2, ord=2, axis=2) ** 2, axis=1)"
   ]
  },
  {
   "cell_type": "code",
   "execution_count": null,
   "metadata": {},
   "outputs": [],
   "source": [
    "plt.plot(objectives)"
   ]
  },
  {
   "cell_type": "code",
   "execution_count": null,
   "metadata": {},
   "outputs": [],
   "source": [
    "def objective(theta, inj, ref, tol=1e-16):\n",
    "    x, v, c = solve_for_theta(inj, theta * scale, tau=0.0001, tol=tol)\n",
    "    vr = np.array([vv[0] * np.sin(xx[0]) + vv[1] * np.cos(xx[0]) for xx, vv in zip(x, v)]).reshape((1, -1))\n",
    "    vi = np.array([- vv[0] * np.cos(xx[0]) + vv[1] * np.sin(xx[0]) for xx, vv in zip(x, v)]).reshape((1, -1))\n",
    "    vvals = np.vstack([vr, vi]).T\n",
    "    vrefs = np.zeros((len(ref), 2))\n",
    "    for t, v in enumerate(ref):\n",
    "        vt = v[0]\n",
    "        anglev = v[1]\n",
    "        v = vt * np.exp(1j * anglev)\n",
    "        vrefs[t, 0] = v.real\n",
    "        vrefs[t, 1] = v.imag\n",
    "    return vvals, vrefs, np.mean(np.linalg.norm(vvals-vrefs, ord=2, axis=1) ** 2, axis=0)"
   ]
  },
  {
   "cell_type": "code",
   "execution_count": null,
   "metadata": {},
   "outputs": [],
   "source": [
    "vvals, vrefs, v = objective(theta_true_scaled, df[['p', 'q']].values, df[['v', 'phi']].values)"
   ]
  },
  {
   "cell_type": "code",
   "execution_count": null,
   "metadata": {},
   "outputs": [],
   "source": [
    "v"
   ]
  },
  {
   "cell_type": "code",
   "execution_count": null,
   "metadata": {},
   "outputs": [],
   "source": [
    "np.mean(np.linalg.norm(vvals-vrefs, axis=1) ** 2)"
   ]
  },
  {
   "cell_type": "code",
   "execution_count": null,
   "metadata": {},
   "outputs": [],
   "source": [
    "vrefs"
   ]
  },
  {
   "cell_type": "markdown",
   "metadata": {},
   "source": [
    "126 pairs x 100 evaluations x 1 minute = 210 hours = 8.75 days"
   ]
  },
  {
   "cell_type": "code",
   "execution_count": null,
   "metadata": {},
   "outputs": [],
   "source": [
    "from tqdm import tnrange"
   ]
  },
  {
   "cell_type": "code",
   "execution_count": null,
   "metadata": {},
   "outputs": [],
   "source": [
    "values = np.zeros((17, 100))\n",
    "for i in tnrange(17):\n",
    "    xrange = np.linspace(theta_true_scaled[i]-1, theta_true_scaled[i]+1, 100)\n",
    "    for j, x in enumerate(xrange):\n",
    "        theta = theta_true_scaled.copy()\n",
    "        theta[i] = x\n",
    "        _, _, values[i, j] = objective(theta, df[['p', 'q']].values, df[['v', 'phi']].values, tol=1e-3)"
   ]
  },
  {
   "cell_type": "code",
   "execution_count": null,
   "metadata": {},
   "outputs": [],
   "source": [
    "sns.heatmap(np.log(values))"
   ]
  },
  {
   "cell_type": "code",
   "execution_count": null,
   "metadata": {},
   "outputs": [],
   "source": [
    "from mpl_toolkits.mplot3d import Axes3D\n",
    "from matplotlib import cm"
   ]
  },
  {
   "cell_type": "code",
   "execution_count": null,
   "metadata": {},
   "outputs": [],
   "source": [
    "fig = plt.figure(figsize=(10,10))\n",
    "ax = fig.add_subplot(111, projection='3d')\n",
    "xx, yy = np.meshgrid(range(17), np.linspace(-1, 1, 100))\n",
    "ax.plot_surface(xx, yy, np.log(values).T, cmap=cm.coolwarm)\n",
    "ax.view_init(33, -35)\n",
    "ax.set_xlabel('varied param number', fontsize=12)\n",
    "ax.set_ylabel('varied param value', fontsize=12)\n",
    "ax.set_zlabel('objective value', fontsize=12)"
   ]
  },
  {
   "cell_type": "code",
   "execution_count": null,
   "metadata": {},
   "outputs": [],
   "source": [
    "proj = np.random.randn(2, 17)"
   ]
  },
  {
   "cell_type": "code",
   "execution_count": null,
   "metadata": {},
   "outputs": [],
   "source": [
    "x = np.linspace(-10, 10)\n",
    "xx, yy = np.meshgrid(x, x)"
   ]
  },
  {
   "cell_type": "code",
   "execution_count": null,
   "metadata": {},
   "outputs": [],
   "source": [
    "values = np.zeros((50, 50))\n",
    "for i, (x, y) in enumerate(zip(tqdm_notebook(xx), yy)):\n",
    "    thetas = np.stack([x, y]).T @ proj\n",
    "    for j, theta in enumerate(thetas):\n",
    "        _, _, values[i, j] = objective(theta, df[['p', 'q']].values, df[['v', 'phi']].values, tol=1e-3)"
   ]
  },
  {
   "cell_type": "code",
   "execution_count": null,
   "metadata": {},
   "outputs": [],
   "source": [
    "sns.heatmap(np.log(values), vmin=np.min(np.log(values)), vmax=10, cmap='RdBu_r')"
   ]
  },
  {
   "cell_type": "code",
   "execution_count": null,
   "metadata": {},
   "outputs": [],
   "source": [
    "np.min(np.log(values))"
   ]
  },
  {
   "cell_type": "code",
   "execution_count": null,
   "metadata": {},
   "outputs": [],
   "source": [
    "fig = plt.figure(figsize=(10,10))\n",
    "ax = fig.add_subplot(111, projection='3d')\n",
    "xx, yy = np.meshgrid(np.linspace(-10, 10, 50), np.linspace(-10, 10, 50))\n",
    "ax.plot_surface(xx, yy, np.clip(np.log(values), -1.5, 10), cmap=cm.coolwarm)\n",
    "ax.view_init(30, -65)"
   ]
  },
  {
   "cell_type": "code",
   "execution_count": null,
   "metadata": {},
   "outputs": [],
   "source": [
    "proj2 = np.random.randn(2, 17)"
   ]
  },
  {
   "cell_type": "code",
   "execution_count": null,
   "metadata": {},
   "outputs": [],
   "source": [
    "values2 = np.zeros((50, 50))\n",
    "for i, (x, y) in enumerate(zip(tqdm_notebook(xx), yy)):\n",
    "    thetas = np.stack([x, y]).T @ proj2\n",
    "    for j, theta in enumerate(thetas):\n",
    "        _, _, values2[i, j] = objective(theta, df[['p', 'q']].values, df[['v', 'phi']].values, tol=1e-3)"
   ]
  },
  {
   "cell_type": "code",
   "execution_count": null,
   "metadata": {},
   "outputs": [],
   "source": []
  }
 ],
 "metadata": {
  "kernelspec": {
   "display_name": "Python 3",
   "language": "python",
   "name": "python3"
  },
  "language_info": {
   "codemirror_mode": {
    "name": "ipython",
    "version": 3
   },
   "file_extension": ".py",
   "mimetype": "text/x-python",
   "name": "python",
   "nbconvert_exporter": "python",
   "pygments_lexer": "ipython3",
   "version": "3.6.3"
  }
 },
 "nbformat": 4,
 "nbformat_minor": 2
}
